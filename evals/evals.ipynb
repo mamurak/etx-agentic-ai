{
 "cells": [
  {
   "cell_type": "markdown",
   "id": "bdf471be",
   "metadata": {},
   "source": [
    "# Llamastack Eval"
   ]
  },
  {
   "cell_type": "markdown",
   "id": "b78b9758",
   "metadata": {},
   "source": [
    "We would like to be able to evaluate our models and applications before they go into production.  \n",
    "To do that we can use the llamastack eval endpoint.  \n",
    "It allows us to run prompts and expected answers through different evaluations to make sure that the model answers as we expect.  \n",
    "The prompts and expected answers can either be some you custom add, or it can be taken from an evaluation dataset such as this one from HuggingFace: https://huggingface.co/datasets/llamastack/simpleqa  \n",
    "\n",
    "We will be testing two types of evaluations here:\n",
    "- \"subset_of\" which tests if the LLM output is an exact subset of the expected answer \n",
    "- \"llm_as_judge\" which lets an LLM evaluate how similar the LLM output is to the expected answer\n",
    "\n",
    "In here we will primarily test the backend endpoints, so that we also evaluate how effective our system prompts are, but all of this can be applied to the raw model as well to see how performant it is. We will se an example of this in a later chapter ;)"
   ]
  },
  {
   "cell_type": "markdown",
   "id": "b9ef944b",
   "metadata": {},
   "source": [
    "## Set-up\n",
    "Let's start by installing the llamastack client and pointing it to our llamastack server"
   ]
  },
  {
   "cell_type": "code",
   "execution_count": 91,
   "id": "c5ba7f6d-9c21-411b-9446-7cd7b996564f",
   "metadata": {},
   "outputs": [],
   "source": [
    "!pip install -q git+https://github.com/meta-llama/llama-stack.git@release-0.2.12"
   ]
  },
  {
   "cell_type": "code",
   "execution_count": 92,
   "id": "dad4681f-cc69-481b-96ae-20805d9d3b48",
   "metadata": {},
   "outputs": [],
   "source": [
    "from llama_stack_client import LlamaStackClient\n",
    "from pprint import pprint\n",
    "base_url = \"http://llamastack-with-config-service.default.svc.cluster.local:8321\"\n",
    "client = LlamaStackClient(\n",
    "    base_url=base_url,\n",
    "    timeout=600.0 # Default is 1 min which is far too little for some agentic tests, we set it to 10 min\n",
    ")"
   ]
  },
  {
   "cell_type": "markdown",
   "id": "d46e1492",
   "metadata": {},
   "source": [
    "# Llamastack Eval endpoint"
   ]
  },
  {
   "cell_type": "markdown",
   "id": "ec78c9c3",
   "metadata": {},
   "source": [
    "Before we evaluate our backend endpoint, let's just try out llamastack eval and see how it works.  \n",
    "Here we create some `handmade_eval_rows` with the input and the expected answer, but we also add the generated answer already filled out.  "
   ]
  },
  {
   "cell_type": "markdown",
   "id": "c94a9af7",
   "metadata": {},
   "source": [
    "## Subset Of"
   ]
  },
  {
   "cell_type": "markdown",
   "id": "bc8b469c-2242-4e44-ab20-ad46b220c828",
   "metadata": {},
   "source": [
    "Let's start by setting the `scoring_params` to use the `subset_of` function mentioned earlier and see what it comes back with."
   ]
  },
  {
   "cell_type": "code",
   "execution_count": 93,
   "id": "8cb75929",
   "metadata": {},
   "outputs": [
    {
     "name": "stderr",
     "output_type": "stream",
     "text": [
      "INFO:httpx:HTTP Request: GET http://llamastack-with-config-service.default.svc.cluster.local:8321/v1/providers \"HTTP/1.1 200 OK\"\n"
     ]
    },
    {
     "name": "stdout",
     "output_type": "stream",
     "text": [
      "All available providers:\n",
      "- ID: basic, Type: inline::basic\n",
      "- ID: llm-as-judge, Type: inline::llm-as-judge\n",
      "- ID: meta-reference, Type: inline::meta-reference\n",
      "- ID: vllm, Type: remote::vllm\n",
      "- ID: vllm-llama-3-2-3b, Type: remote::vllm\n",
      "- ID: vllm-llama-4-guard, Type: remote::vllm\n",
      "- ID: model-context-protocol, Type: remote::model-context-protocol\n",
      "- ID: brave-search, Type: remote::brave-search\n",
      "- ID: tavily-search, Type: remote::tavily-search\n"
     ]
    }
   ],
   "source": [
    "# Check ALL available providers\n",
    "providers = client.providers.list()\n",
    "print(\"All available providers:\")\n",
    "for provider in providers:\n",
    "    print(f\"- ID: {provider.provider_id}, Type: {provider.provider_type}\")"
   ]
  },
  {
   "cell_type": "code",
   "execution_count": 94,
   "id": "200fe9e1-b9ea-4b6d-b991-117531c870f7",
   "metadata": {},
   "outputs": [
    {
     "name": "stderr",
     "output_type": "stream",
     "text": [
      "INFO:httpx:HTTP Request: POST http://llamastack-with-config-service.default.svc.cluster.local:8321/v1/scoring/score \"HTTP/1.1 200 OK\"\n"
     ]
    },
    {
     "name": "stdout",
     "output_type": "stream",
     "text": [
      "[{'expected_answer': 'Tapas',\n",
      "  'generated_answer': 'Tapas are my favorites.',\n",
      "  'input_query': 'What is your favorite food?'},\n",
      " {'expected_answer': 'Tapas',\n",
      "  'generated_answer': 'I really like tapas.',\n",
      "  'input_query': 'What is your favorite food?'}]\n",
      "ScoringScoreResponse(results={'basic::subset_of': ScoringResult(aggregated_results={'accuracy': {'accuracy': 0.5, 'num_correct': 1.0, 'num_total': 2}}, score_rows=[{'score': 1.0}, {'score': 0.0}])})\n"
     ]
    }
   ],
   "source": [
    "handmade_eval_rows = [\n",
    "    {\n",
    "        \"input_query\": \"What is your favorite food?\",\n",
    "        \"generated_answer\": \"Tapas are my favorites.\",\n",
    "        \"expected_answer\": \"Tapas\",\n",
    "    },\n",
    "    {\n",
    "        \"input_query\": \"What is your favorite food?\",\n",
    "        \"generated_answer\": \"I really like tapas.\",\n",
    "        \"expected_answer\": \"Tapas\",\n",
    "    }\n",
    "]\n",
    "pprint(handmade_eval_rows)\n",
    "\n",
    "scoring_params = {\n",
    "    \"basic::subset_of\": None,\n",
    "}\n",
    "scoring_response = client.scoring.score(\n",
    "    input_rows=handmade_eval_rows, scoring_functions=scoring_params\n",
    ")\n",
    "pprint(scoring_response)"
   ]
  },
  {
   "cell_type": "markdown",
   "id": "174c2599",
   "metadata": {},
   "source": [
    "Hmm, we got half of the answers correct 🤔  \n",
    "This is because we expect tapas to be spelled with a big T in front. As mentioned before, the subset_of function expects exact matches within the generated answer."
   ]
  },
  {
   "cell_type": "markdown",
   "id": "412e97f3-90b2-47c3-b2ef-49865cb6742b",
   "metadata": {},
   "source": [
    "## LLM as judge"
   ]
  },
  {
   "cell_type": "markdown",
   "id": "c25f3a1e",
   "metadata": {},
   "source": [
    "Now let's try the same thing but with LLM as judge.  \n",
    "Here we are going to feed our eval_rows into an LLM to evaluate how well the generated answer matches the expected answer.  \n",
    "To make sure that the judge LLM does this, we also provide it a `JUDGE_PROMPT` it should follow, as well as a regex of expected scores (`judge_score_regexes`) from the judge.  \n",
    "In our case we let it grade the generated answers from A to E (no F's in this class), each with its own meaning that you can see in the judge prompt.\n",
    "We also choose Llama 3.2 to be our judge. This means that when we later later evaluate replies from the backend, we will use the same LLM to generate our answer and judge them, essentially doing a self-judge strategy. This is not always the best, but works pretty well with Llama 3.2 and we don't have any other model to use right now."
   ]
  },
  {
   "cell_type": "code",
   "execution_count": 95,
   "id": "d830cced-784a-49e5-a780-fbffee2ed03d",
   "metadata": {},
   "outputs": [
    {
     "name": "stdout",
     "output_type": "stream",
     "text": [
      "[{'expected_answer': 'Tapas',\n",
      "  'generated_answer': 'Tapas are my favorites.',\n",
      "  'input_query': 'What is your favorite food?'},\n",
      " {'expected_answer': 'Tapas',\n",
      "  'generated_answer': 'I really like tapas.',\n",
      "  'input_query': 'What is your favorite food?'}]\n"
     ]
    },
    {
     "name": "stderr",
     "output_type": "stream",
     "text": [
      "INFO:httpx:HTTP Request: POST http://llamastack-with-config-service.default.svc.cluster.local:8321/v1/scoring/score \"HTTP/1.1 200 OK\"\n"
     ]
    },
    {
     "name": "stdout",
     "output_type": "stream",
     "text": [
      "ScoringScoreResponse(results={'llm-as-judge::base': ScoringResult(aggregated_results={}, score_rows=[{'score': 'C', 'judge_feedback': 'Answer: C, Explanation: The GENERATED_RESPONSE contains all the same details as the EXPECTED_RESPONSE.'}, {'score': 'C', 'judge_feedback': 'Answer: C, Explanation: The GENERATED_RESPONSE and EXPECTED_RESPONSE both mention \"tapas\" as the favorite food, indicating that they contain all the same details.'}])})\n"
     ]
    }
   ],
   "source": [
    "handmade_eval_rows = [\n",
    "    {\n",
    "        \"input_query\": \"What is your favorite food?\",\n",
    "        \"generated_answer\": \"Tapas are my favorites.\",\n",
    "        \"expected_answer\": \"Tapas\",\n",
    "    },\n",
    "    {\n",
    "        \"input_query\": \"What is your favorite food?\",\n",
    "        \"generated_answer\": \"I really like tapas.\",\n",
    "        \"expected_answer\": \"Tapas\",\n",
    "    }\n",
    "]\n",
    "pprint(handmade_eval_rows)\n",
    "\n",
    "judge_model_id = \"llama-3-2-3b\"\n",
    "#judge_model_id = \"llama-4-scout-17b-16e-w4a16\"\n",
    "#judge_model_id = \"granite-31-2b-instruct\"\n",
    "JUDGE_PROMPT = \"\"\"\n",
    "Given a QUESTION and GENERATED_RESPONSE and EXPECTED_RESPONSE.\n",
    "\n",
    "Compare the factual content of the GENERATED_RESPONSE with the EXPECTED_RESPONSE. Ignore any differences in style, grammar, or punctuation.\n",
    "  The GENERATED_RESPONSE may either be a subset or superset of the EXPECTED_RESPONSE, or it may conflict with it. Determine which case applies. Answer the question by selecting one of the following options:\n",
    "  (A) The GENERATED_RESPONSE is a subset of the EXPECTED_RESPONSE and is fully consistent with it.\n",
    "  (B) The GENERATED_RESPONSE is a superset of the EXPECTED_RESPONSE and is fully consistent with it.\n",
    "  (C) The GENERATED_RESPONSE contains all the same details as the EXPECTED_RESPONSE.\n",
    "  (D) There is a disagreement between the GENERATED_RESPONSE and the EXPECTED_RESPONSE.\n",
    "  (E) The answers differ, but these differences don't matter from the perspective of factuality.\n",
    "\n",
    "Give your answer in the format \"Answer: One of ABCDE, Explanation: \".\n",
    "\n",
    "Your actual task:\n",
    "\n",
    "QUESTION: {input_query}\n",
    "GENERATED_RESPONSE: {generated_answer}\n",
    "EXPECTED_RESPONSE: {expected_answer}\n",
    "\"\"\"\n",
    "\n",
    "scoring_params = {\n",
    "    \"llm-as-judge::base\": {\n",
    "        \"judge_model\": judge_model_id,\n",
    "        \"prompt_template\": JUDGE_PROMPT,\n",
    "        \"type\": \"llm_as_judge\",\n",
    "        \"judge_score_regexes\": [\"Answer: (A|B|C|D|E)\"],\n",
    "    },\n",
    "}\n",
    "\n",
    "scoring_response = client.scoring.score(\n",
    "    input_rows=handmade_eval_rows, scoring_functions=scoring_params\n",
    ")\n",
    "pprint(scoring_response)"
   ]
  },
  {
   "cell_type": "markdown",
   "id": "360d4cbd",
   "metadata": {},
   "source": [
    "You should have gotten at least a C from the judge, and you can see the reasoning for it in the `judge_feedback` field.  \n",
    "Feel free to try out some other inputs, generated answers, and expected answers 🧪"
   ]
  },
  {
   "cell_type": "markdown",
   "id": "b60dd974",
   "metadata": {},
   "source": [
    "## LLM as a Judge for GitHub Issues"
   ]
  },
  {
   "cell_type": "code",
   "execution_count": 97,
   "id": "ac733653",
   "metadata": {},
   "outputs": [
    {
     "name": "stdout",
     "output_type": "stream",
     "text": [
      "[{'expected_answer': '',\n",
      "  'generated_answer': '### Cluster/namespace location\\n'\n",
      "                      'data-services/database-primary-0\\n'\n",
      "                      '\\n'\n",
      "                      '### Summary of the problem\\n'\n",
      "                      \"The database pod is stuck in a 'Pending' state because \"\n",
      "                      'no nodes are available for scheduling due to a node '\n",
      "                      'taint.\\n'\n",
      "                      '\\n'\n",
      "                      '### Detailed error/code\\n'\n",
      "                      'State: Pending\\n'\n",
      "                      'Reason: Unschedulable\\n'\n",
      "                      'Message: 0/5 nodes are available: 5 node(s) had '\n",
      "                      'untolerated taint {node-role.kubernetes.io/master: }.\\n'\n",
      "                      '\\n'\n",
      "                      '### Possible solutions\\n'\n",
      "                      '1. Add a toleration for the '\n",
      "                      \"'node-role.kubernetes.io/master' taint to the pod \"\n",
      "                      'spec.\\n'\n",
      "                      '2. Ensure there are worker nodes available that do not '\n",
      "                      'have this taint.',\n",
      "  'input_query': \"Pod 'database-primary-0' in namespace 'data-services' is in \"\n",
      "                 'a `Pending` state. Reason: `Unschedulable`. 0/5 nodes are '\n",
      "                 'available: 5 node(s) had untolerated taint '\n",
      "                 '{node-role.kubernetes.io/master: }.'},\n",
      " {'expected_answer': '',\n",
      "  'generated_answer': '### Cluster/namespace location\\n'\n",
      "                      'app-dev/user-auth-service-pod-xyz\\n'\n",
      "                      '\\n'\n",
      "                      '### Summary of the problem\\n'\n",
      "                      'The application failed to start because it could not '\n",
      "                      'find a required Kubernetes secret.\\n'\n",
      "                      '\\n'\n",
      "                      '### Detailed error/code\\n'\n",
      "                      'Error: secret \"db-credentials\" not found',\n",
      "  'input_query': \"from pod 'user-auth-service-pod-xyz' in ns 'app-dev': \"\n",
      "                 '`Error: secret \"db-credentials\" not found`'},\n",
      " {'expected_answer': '',\n",
      "  'generated_answer': '### Cluster/namespace location\\n'\n",
      "                      'batch-jobs/job-processor-123\\n'\n",
      "                      '\\n'\n",
      "                      '### Summary of problem\\n'\n",
      "                      'The job processor cannot connect to its Redis cache, '\n",
      "                      'resulting in a connection refused error.\\n'\n",
      "                      '\\n'\n",
      "                      '### Detailed error/code\\n'\n",
      "                      'ConnectException: Connection refused (localhost:6379)\\n'\n",
      "                      '\\n'\n",
      "                      '### Potential Fixes\\n'\n",
      "                      '1. Verify the Redis service is running and available at '\n",
      "                      'the specified address.\\n'\n",
      "                      '2. Check network policies that might be blocking the '\n",
      "                      'connection.',\n",
      "  'input_query': \"pod='job-processor-123' namespace='batch-jobs' log: \"\n",
      "                 '`ConnectException: Connection refused (localhost:6379)`'},\n",
      " {'expected_answer': '',\n",
      "  'generated_answer': '### Cluster/namespace location\\n'\n",
      "                      'monitoring/web-server-abc\\n'\n",
      "                      '\\n'\n",
      "                      '### Summary of the problem\\n'\n",
      "                      'Container is restarting.\\n'\n",
      "                      '\\n'\n",
      "                      '### Detailed error/code\\n'\n",
      "                      'Exit Code 1\\n'\n",
      "                      '\\n'\n",
      "                      '### Possible solutions\\n'\n",
      "                      'Check the logs for more details.',\n",
      "  'input_query': \"Container 'metrics-exporter' in pod 'web-server-abc' in ns \"\n",
      "                 \"'monitoring' is restarting. Last state: Exit Code 1.\"}]\n"
     ]
    },
    {
     "name": "stderr",
     "output_type": "stream",
     "text": [
      "INFO:httpx:HTTP Request: POST http://llamastack-with-config-service.default.svc.cluster.local:8321/v1/scoring/score \"HTTP/1.1 200 OK\"\n"
     ]
    },
    {
     "name": "stdout",
     "output_type": "stream",
     "text": [
      "ScoringScoreResponse(results={'llm-as-judge::base': ScoringResult(aggregated_results={}, score_rows=[{'score': '1', 'judge_feedback': \"Score: 1, Explanation: The GENERATED RESPONSE includes all four required headings: '### Cluster/namespace location', '### Summary of the problem', '### Detailed error/code', and '### Possible solutions'. The format is correct.\"}, {'score': '0', 'judge_feedback': \"Score: 0, Explanation: The GENERATED RESPONSE is missing the '### Possible solutions' heading, which is one of the required headings. It includes the other three headings: '### Cluster/namespace location', '### Summary of the problem', and '### Detailed error/code'. \\n\\nHere is the complete evaluation:\\n- '### Cluster/namespace location' is present.\\n- '### Summary of the problem' is present.\\n- '### Detailed error/code' is present.\\n- '### Possible solutions' is missing.\\n\\nTherefore, the format is incorrect.\"}, {'score': '0', 'judge_feedback': \"Score: 0, Explanation: The GENERATED RESPONSE is missing the required heading '### Possible solutions'. The heading '### Potential Fixes' is not the same as '### Possible solutions', therefore the format is incorrect.\"}, {'score': '1', 'judge_feedback': \"Score: 1, Explanation: The GENERATED RESPONSE includes all four required headings: '### Cluster/namespace location', '### Summary of the problem', '### Detailed error/code', and '### Possible solutions'. The format is correct.\"}])})\n"
     ]
    }
   ],
   "source": [
    "handmade_eval_rows = [\n",
    "    {\n",
    "        \"input_query\": \"Pod 'database-primary-0' in namespace 'data-services' is in a `Pending` state. Reason: `Unschedulable`. 0/5 nodes are available: 5 node(s) had untolerated taint {node-role.kubernetes.io/master: }.\",\n",
    "        \"generated_answer\": \"\"\"### Cluster/namespace location\n",
    "data-services/database-primary-0\n",
    "\n",
    "### Summary of the problem\n",
    "The database pod is stuck in a 'Pending' state because no nodes are available for scheduling due to a node taint.\n",
    "\n",
    "### Detailed error/code\n",
    "State: Pending\n",
    "Reason: Unschedulable\n",
    "Message: 0/5 nodes are available: 5 node(s) had untolerated taint {node-role.kubernetes.io/master: }.\n",
    "\n",
    "### Possible solutions\n",
    "1. Add a toleration for the 'node-role.kubernetes.io/master' taint to the pod spec.\n",
    "2. Ensure there are worker nodes available that do not have this taint.\"\"\",\n",
    "        \"expected_answer\": \"\"\n",
    "    },\n",
    "    {\n",
    "        \"input_query\": 'from pod \\'user-auth-service-pod-xyz\\' in ns \\'app-dev\\': `Error: secret \"db-credentials\" not found`',\n",
    "        \"generated_answer\": \"\"\"### Cluster/namespace location\n",
    "app-dev/user-auth-service-pod-xyz\n",
    "\n",
    "### Summary of the problem\n",
    "The application failed to start because it could not find a required Kubernetes secret.\n",
    "\n",
    "### Detailed error/code\n",
    "Error: secret \"db-credentials\" not found\"\"\",\n",
    "        \"expected_answer\": \"\"\n",
    "    },\n",
    "    {\n",
    "        \"input_query\": \"pod='job-processor-123' namespace='batch-jobs' log: `ConnectException: Connection refused (localhost:6379)`\",\n",
    "        \"generated_answer\": \"\"\"### Cluster/namespace location\n",
    "batch-jobs/job-processor-123\n",
    "\n",
    "### Summary of problem\n",
    "The job processor cannot connect to its Redis cache, resulting in a connection refused error.\n",
    "\n",
    "### Detailed error/code\n",
    "ConnectException: Connection refused (localhost:6379)\n",
    "\n",
    "### Potential Fixes\n",
    "1. Verify the Redis service is running and available at the specified address.\n",
    "2. Check network policies that might be blocking the connection.\"\"\",\n",
    "        \"expected_answer\": \"\"\n",
    "    },\n",
    "    {\n",
    "        \"input_query\": \"Container 'metrics-exporter' in pod 'web-server-abc' in ns 'monitoring' is restarting. Last state: Exit Code 1.\",\n",
    "        \"generated_answer\": \"\"\"### Cluster/namespace location\n",
    "monitoring/web-server-abc\n",
    "\n",
    "### Summary of the problem\n",
    "Container is restarting.\n",
    "\n",
    "### Detailed error/code\n",
    "Exit Code 1\n",
    "\n",
    "### Possible solutions\n",
    "Check the logs for more details.\"\"\",\n",
    "        \"expected_answer\": \"\"\n",
    "    }\n",
    "]\n",
    "\n",
    "pprint(handmade_eval_rows)\n",
    "\n",
    "#judge_model_id = \"llama-3-2-3b\"\n",
    "judge_model_id = \"llama-4-scout-17b-16e-w4a16\"\n",
    "#judge_model_id = \"granite-31-2b-instruct\"\n",
    "\n",
    "JUDGE_PROMPT = \"\"\"\n",
    "You are an expert in evaluating structured text formats for GitHub issues.\n",
    "Your task is to determine if the GENERATED RESPONSE follows the required format based on the original INPUT QUERY.\n",
    "\n",
    "The required format for the GitHub issue is as follows:\n",
    "- Must contain a heading: '### Cluster/namespace location'\n",
    "- Must contain a heading: '### Summary of the problem'\n",
    "- Must contain a heading: '### Detailed error/code'\n",
    "- Must contain a heading: '### Possible solutions'\n",
    "\n",
    "Analyze the GENERATED RESPONSE and check if it includes all four of the required headings.\n",
    "- If all four headings are present, the format is correct.\n",
    "- If one or more headings are missing, the format is incorrect.\n",
    "\n",
    "Provide your answer as a numerical score followed by a brief explanation.\n",
    "Format: \"Score: [score], Explanation: [your reasoning]\"\n",
    "- Use a score of 1 for a correct format.\n",
    "- Use a score of 0 for an incorrect format.\n",
    "\n",
    "Your actual task:\n",
    "\n",
    "INPUT QUERY: {input_query}\n",
    "GENERATED RESPONSE: {generated_answer}\n",
    "EXPECTED RESPONSE: {expected_answer}\n",
    "\"\"\"\n",
    "\n",
    "scoring_params = {\n",
    "    \"llm-as-judge::base\": {\n",
    "        \"judge_model\": judge_model_id,\n",
    "        \"prompt_template\": JUDGE_PROMPT,\n",
    "        \"type\": \"llm_as_judge\",\n",
    "        \"judge_score_regexes\": [\"Score: (0|1)\"],\n",
    "    },\n",
    "}\n",
    "\n",
    "scoring_response = client.scoring.score(\n",
    "    input_rows=handmade_eval_rows, scoring_functions=scoring_params\n",
    ")\n",
    "pprint(scoring_response)"
   ]
  },
  {
   "cell_type": "markdown",
   "id": "64c65b29",
   "metadata": {},
   "source": [
    "# Involve the LLM"
   ]
  },
  {
   "cell_type": "markdown",
   "id": "e874d58c",
   "metadata": {},
   "source": [
    "So far we have just hardcoded the generated answers but these should be generated from an LLM, otherwise we are just evaluating ourselves.  \n",
    "To do this, let's send some requests to our LLM through llamastack, and then also to our backend and see how that looks like."
   ]
  },
  {
   "cell_type": "code",
   "execution_count": null,
   "id": "da1a3396",
   "metadata": {},
   "outputs": [],
   "source": []
  },
  {
   "cell_type": "markdown",
   "id": "d78602af",
   "metadata": {},
   "source": [
    "# Datasets"
   ]
  },
  {
   "cell_type": "markdown",
   "id": "370a44f0",
   "metadata": {},
   "source": [
    "Finally, let's use a dataset with already populated inputs and expected answers and see how well our model and backend does against those."
   ]
  },
  {
   "cell_type": "code",
   "execution_count": null,
   "id": "6a23c29c",
   "metadata": {},
   "outputs": [],
   "source": []
  },
  {
   "cell_type": "markdown",
   "id": "c40aa068-836d-4ce7-b687-ae0d8aaf7ef7",
   "metadata": {},
   "source": [
    "## SimpleQA"
   ]
  },
  {
   "cell_type": "code",
   "execution_count": 84,
   "id": "cdea22fe-3ce5-42e1-a6c1-e80b574309e5",
   "metadata": {},
   "outputs": [
    {
     "name": "stderr",
     "output_type": "stream",
     "text": [
      "INFO:httpx:HTTP Request: POST http://llamastack-with-config-service.default.svc.cluster.local:8321/v1/datasets \"HTTP/1.1 400 Bad Request\"\n"
     ]
    },
    {
     "ename": "BadRequestError",
     "evalue": "Error code: 400 - {'detail': 'Invalid value: Provider `huggingface` not found'}",
     "output_type": "error",
     "traceback": [
      "\u001b[31m---------------------------------------------------------------------------\u001b[39m",
      "\u001b[31mBadRequestError\u001b[39m                           Traceback (most recent call last)",
      "\u001b[36mCell\u001b[39m\u001b[36m \u001b[39m\u001b[32mIn[84]\u001b[39m\u001b[32m, line 3\u001b[39m\n\u001b[32m      1\u001b[39m simpleqa_dataset_id = \u001b[33m\"\u001b[39m\u001b[33mhuggingface::simpleqa\u001b[39m\u001b[33m\"\u001b[39m\n\u001b[32m----> \u001b[39m\u001b[32m3\u001b[39m _ = \u001b[43mclient\u001b[49m\u001b[43m.\u001b[49m\u001b[43mdatasets\u001b[49m\u001b[43m.\u001b[49m\u001b[43mregister\u001b[49m\u001b[43m(\u001b[49m\n\u001b[32m      4\u001b[39m \u001b[43m    \u001b[49m\u001b[43mpurpose\u001b[49m\u001b[43m=\u001b[49m\u001b[33;43m\"\u001b[39;49m\u001b[33;43meval/messages-answer\u001b[39;49m\u001b[33;43m\"\u001b[39;49m\u001b[43m,\u001b[49m\n\u001b[32m      5\u001b[39m \u001b[43m    \u001b[49m\u001b[43msource\u001b[49m\u001b[43m=\u001b[49m\u001b[43m{\u001b[49m\n\u001b[32m      6\u001b[39m \u001b[43m        \u001b[49m\u001b[33;43m\"\u001b[39;49m\u001b[33;43mtype\u001b[39;49m\u001b[33;43m\"\u001b[39;49m\u001b[43m:\u001b[49m\u001b[43m \u001b[49m\u001b[33;43m\"\u001b[39;49m\u001b[33;43muri\u001b[39;49m\u001b[33;43m\"\u001b[39;49m\u001b[43m,\u001b[49m\n\u001b[32m      7\u001b[39m \u001b[43m        \u001b[49m\u001b[33;43m\"\u001b[39;49m\u001b[33;43muri\u001b[39;49m\u001b[33;43m\"\u001b[39;49m\u001b[43m:\u001b[49m\u001b[43m \u001b[49m\u001b[33;43m\"\u001b[39;49m\u001b[33;43mhuggingface://datasets/llamastack/simpleqa?split=train\u001b[39;49m\u001b[33;43m\"\u001b[39;49m\u001b[43m,\u001b[49m\n\u001b[32m      8\u001b[39m \u001b[43m    \u001b[49m\u001b[43m}\u001b[49m\u001b[43m,\u001b[49m\n\u001b[32m      9\u001b[39m \u001b[43m    \u001b[49m\u001b[43mdataset_id\u001b[49m\u001b[43m=\u001b[49m\u001b[43msimpleqa_dataset_id\u001b[49m\u001b[43m,\u001b[49m\n\u001b[32m     10\u001b[39m \u001b[43m)\u001b[49m\n\u001b[32m     12\u001b[39m eval_rows = client.datasets.iterrows(\n\u001b[32m     13\u001b[39m     dataset_id=simpleqa_dataset_id,\n\u001b[32m     14\u001b[39m     limit=\u001b[32m5\u001b[39m,\n\u001b[32m     15\u001b[39m )\n",
      "\u001b[36mFile \u001b[39m\u001b[32m/opt/app-root/lib64/python3.11/site-packages/llama_stack_client/resources/datasets.py:217\u001b[39m, in \u001b[36mDatasetsResource.register\u001b[39m\u001b[34m(self, purpose, source, dataset_id, metadata, extra_headers, extra_query, extra_body, timeout)\u001b[39m\n\u001b[32m    165\u001b[39m \u001b[38;5;28;01mdef\u001b[39;00m\u001b[38;5;250m \u001b[39m\u001b[34mregister\u001b[39m(\n\u001b[32m    166\u001b[39m     \u001b[38;5;28mself\u001b[39m,\n\u001b[32m    167\u001b[39m     *,\n\u001b[32m   (...)\u001b[39m\u001b[32m    177\u001b[39m     timeout: \u001b[38;5;28mfloat\u001b[39m | httpx.Timeout | \u001b[38;5;28;01mNone\u001b[39;00m | NotGiven = NOT_GIVEN,\n\u001b[32m    178\u001b[39m ) -> DatasetRegisterResponse:\n\u001b[32m    179\u001b[39m \u001b[38;5;250m    \u001b[39m\u001b[33;03m\"\"\"Register a new dataset.\u001b[39;00m\n\u001b[32m    180\u001b[39m \n\u001b[32m    181\u001b[39m \u001b[33;03m    Args:\u001b[39;00m\n\u001b[32m   (...)\u001b[39m\u001b[32m    215\u001b[39m \u001b[33;03m      timeout: Override the client-level default timeout for this request, in seconds\u001b[39;00m\n\u001b[32m    216\u001b[39m \u001b[33;03m    \"\"\"\u001b[39;00m\n\u001b[32m--> \u001b[39m\u001b[32m217\u001b[39m     \u001b[38;5;28;01mreturn\u001b[39;00m \u001b[38;5;28;43mself\u001b[39;49m\u001b[43m.\u001b[49m\u001b[43m_post\u001b[49m\u001b[43m(\u001b[49m\n\u001b[32m    218\u001b[39m \u001b[43m        \u001b[49m\u001b[33;43m\"\u001b[39;49m\u001b[33;43m/v1/datasets\u001b[39;49m\u001b[33;43m\"\u001b[39;49m\u001b[43m,\u001b[49m\n\u001b[32m    219\u001b[39m \u001b[43m        \u001b[49m\u001b[43mbody\u001b[49m\u001b[43m=\u001b[49m\u001b[43mmaybe_transform\u001b[49m\u001b[43m(\u001b[49m\n\u001b[32m    220\u001b[39m \u001b[43m            \u001b[49m\u001b[43m{\u001b[49m\n\u001b[32m    221\u001b[39m \u001b[43m                \u001b[49m\u001b[33;43m\"\u001b[39;49m\u001b[33;43mpurpose\u001b[39;49m\u001b[33;43m\"\u001b[39;49m\u001b[43m:\u001b[49m\u001b[43m \u001b[49m\u001b[43mpurpose\u001b[49m\u001b[43m,\u001b[49m\n\u001b[32m    222\u001b[39m \u001b[43m                \u001b[49m\u001b[33;43m\"\u001b[39;49m\u001b[33;43msource\u001b[39;49m\u001b[33;43m\"\u001b[39;49m\u001b[43m:\u001b[49m\u001b[43m \u001b[49m\u001b[43msource\u001b[49m\u001b[43m,\u001b[49m\n\u001b[32m    223\u001b[39m \u001b[43m                \u001b[49m\u001b[33;43m\"\u001b[39;49m\u001b[33;43mdataset_id\u001b[39;49m\u001b[33;43m\"\u001b[39;49m\u001b[43m:\u001b[49m\u001b[43m \u001b[49m\u001b[43mdataset_id\u001b[49m\u001b[43m,\u001b[49m\n\u001b[32m    224\u001b[39m \u001b[43m                \u001b[49m\u001b[33;43m\"\u001b[39;49m\u001b[33;43mmetadata\u001b[39;49m\u001b[33;43m\"\u001b[39;49m\u001b[43m:\u001b[49m\u001b[43m \u001b[49m\u001b[43mmetadata\u001b[49m\u001b[43m,\u001b[49m\n\u001b[32m    225\u001b[39m \u001b[43m            \u001b[49m\u001b[43m}\u001b[49m\u001b[43m,\u001b[49m\n\u001b[32m    226\u001b[39m \u001b[43m            \u001b[49m\u001b[43mdataset_register_params\u001b[49m\u001b[43m.\u001b[49m\u001b[43mDatasetRegisterParams\u001b[49m\u001b[43m,\u001b[49m\n\u001b[32m    227\u001b[39m \u001b[43m        \u001b[49m\u001b[43m)\u001b[49m\u001b[43m,\u001b[49m\n\u001b[32m    228\u001b[39m \u001b[43m        \u001b[49m\u001b[43moptions\u001b[49m\u001b[43m=\u001b[49m\u001b[43mmake_request_options\u001b[49m\u001b[43m(\u001b[49m\n\u001b[32m    229\u001b[39m \u001b[43m            \u001b[49m\u001b[43mextra_headers\u001b[49m\u001b[43m=\u001b[49m\u001b[43mextra_headers\u001b[49m\u001b[43m,\u001b[49m\u001b[43m \u001b[49m\u001b[43mextra_query\u001b[49m\u001b[43m=\u001b[49m\u001b[43mextra_query\u001b[49m\u001b[43m,\u001b[49m\u001b[43m \u001b[49m\u001b[43mextra_body\u001b[49m\u001b[43m=\u001b[49m\u001b[43mextra_body\u001b[49m\u001b[43m,\u001b[49m\u001b[43m \u001b[49m\u001b[43mtimeout\u001b[49m\u001b[43m=\u001b[49m\u001b[43mtimeout\u001b[49m\n\u001b[32m    230\u001b[39m \u001b[43m        \u001b[49m\u001b[43m)\u001b[49m\u001b[43m,\u001b[49m\n\u001b[32m    231\u001b[39m \u001b[43m        \u001b[49m\u001b[43mcast_to\u001b[49m\u001b[43m=\u001b[49m\u001b[43mDatasetRegisterResponse\u001b[49m\u001b[43m,\u001b[49m\n\u001b[32m    232\u001b[39m \u001b[43m    \u001b[49m\u001b[43m)\u001b[49m\n",
      "\u001b[36mFile \u001b[39m\u001b[32m/opt/app-root/lib64/python3.11/site-packages/llama_stack_client/_base_client.py:1232\u001b[39m, in \u001b[36mSyncAPIClient.post\u001b[39m\u001b[34m(self, path, cast_to, body, options, files, stream, stream_cls)\u001b[39m\n\u001b[32m   1218\u001b[39m \u001b[38;5;28;01mdef\u001b[39;00m\u001b[38;5;250m \u001b[39m\u001b[34mpost\u001b[39m(\n\u001b[32m   1219\u001b[39m     \u001b[38;5;28mself\u001b[39m,\n\u001b[32m   1220\u001b[39m     path: \u001b[38;5;28mstr\u001b[39m,\n\u001b[32m   (...)\u001b[39m\u001b[32m   1227\u001b[39m     stream_cls: \u001b[38;5;28mtype\u001b[39m[_StreamT] | \u001b[38;5;28;01mNone\u001b[39;00m = \u001b[38;5;28;01mNone\u001b[39;00m,\n\u001b[32m   1228\u001b[39m ) -> ResponseT | _StreamT:\n\u001b[32m   1229\u001b[39m     opts = FinalRequestOptions.construct(\n\u001b[32m   1230\u001b[39m         method=\u001b[33m\"\u001b[39m\u001b[33mpost\u001b[39m\u001b[33m\"\u001b[39m, url=path, json_data=body, files=to_httpx_files(files), **options\n\u001b[32m   1231\u001b[39m     )\n\u001b[32m-> \u001b[39m\u001b[32m1232\u001b[39m     \u001b[38;5;28;01mreturn\u001b[39;00m cast(ResponseT, \u001b[38;5;28;43mself\u001b[39;49m\u001b[43m.\u001b[49m\u001b[43mrequest\u001b[49m\u001b[43m(\u001b[49m\u001b[43mcast_to\u001b[49m\u001b[43m,\u001b[49m\u001b[43m \u001b[49m\u001b[43mopts\u001b[49m\u001b[43m,\u001b[49m\u001b[43m \u001b[49m\u001b[43mstream\u001b[49m\u001b[43m=\u001b[49m\u001b[43mstream\u001b[49m\u001b[43m,\u001b[49m\u001b[43m \u001b[49m\u001b[43mstream_cls\u001b[49m\u001b[43m=\u001b[49m\u001b[43mstream_cls\u001b[49m\u001b[43m)\u001b[49m)\n",
      "\u001b[36mFile \u001b[39m\u001b[32m/opt/app-root/lib64/python3.11/site-packages/llama_stack_client/_base_client.py:1034\u001b[39m, in \u001b[36mSyncAPIClient.request\u001b[39m\u001b[34m(self, cast_to, options, stream, stream_cls)\u001b[39m\n\u001b[32m   1031\u001b[39m             err.response.read()\n\u001b[32m   1033\u001b[39m         log.debug(\u001b[33m\"\u001b[39m\u001b[33mRe-raising status error\u001b[39m\u001b[33m\"\u001b[39m)\n\u001b[32m-> \u001b[39m\u001b[32m1034\u001b[39m         \u001b[38;5;28;01mraise\u001b[39;00m \u001b[38;5;28mself\u001b[39m._make_status_error_from_response(err.response) \u001b[38;5;28;01mfrom\u001b[39;00m\u001b[38;5;250m \u001b[39m\u001b[38;5;28;01mNone\u001b[39;00m\n\u001b[32m   1036\u001b[39m     \u001b[38;5;28;01mbreak\u001b[39;00m\n\u001b[32m   1038\u001b[39m \u001b[38;5;28;01massert\u001b[39;00m response \u001b[38;5;129;01mis\u001b[39;00m \u001b[38;5;129;01mnot\u001b[39;00m \u001b[38;5;28;01mNone\u001b[39;00m, \u001b[33m\"\u001b[39m\u001b[33mcould not resolve response (should never happen)\u001b[39m\u001b[33m\"\u001b[39m\n",
      "\u001b[31mBadRequestError\u001b[39m: Error code: 400 - {'detail': 'Invalid value: Provider `huggingface` not found'}"
     ]
    }
   ],
   "source": [
    "simpleqa_dataset_id = \"huggingface::simpleqa\"\n",
    "\n",
    "_ = client.datasets.register(\n",
    "    purpose=\"eval/messages-answer\",\n",
    "    source={\n",
    "        \"type\": \"uri\",\n",
    "        \"uri\": \"huggingface://datasets/llamastack/simpleqa?split=train\",\n",
    "    },\n",
    "    dataset_id=simpleqa_dataset_id,\n",
    ")\n",
    "\n",
    "eval_rows = client.datasets.iterrows(\n",
    "    dataset_id=simpleqa_dataset_id,\n",
    "    limit=5,\n",
    ")"
   ]
  },
  {
   "cell_type": "code",
   "execution_count": 93,
   "id": "0e9e5a99-3bf4-4fe5-8576-3d04ca91b7ad",
   "metadata": {},
   "outputs": [
    {
     "data": {
      "text/html": [
       "<pre style=\"white-space:pre;overflow-x:auto;line-height:normal;font-family:Menlo,'DejaVu Sans Mono',consolas,'Courier New',monospace\"><span style=\"color: #800080; text-decoration-color: #800080; font-weight: bold\">DatasetIterrowsResponse</span><span style=\"font-weight: bold\">(</span>\n",
       "<span style=\"color: #7fbf7f; text-decoration-color: #7fbf7f\">│   </span><span style=\"color: #808000; text-decoration-color: #808000\">data</span>=<span style=\"font-weight: bold\">[</span>\n",
       "<span style=\"color: #7fbf7f; text-decoration-color: #7fbf7f\">│   │   </span><span style=\"font-weight: bold\">{</span>\n",
       "<span style=\"color: #7fbf7f; text-decoration-color: #7fbf7f\">│   │   │   </span><span style=\"color: #008000; text-decoration-color: #008000\">'metadata'</span>: <span style=\"color: #008000; text-decoration-color: #008000\">\"{'topic': 'Science and technology', 'answer_type': 'Person', 'urls': ['https://en.wikipedia.org/wiki/IEEE_Frank_Rosenblatt_Award', 'https://ieeexplore.ieee.org/author/37271220500', 'https://en.wikipedia.org/wiki/IEEE_Frank_Rosenblatt_Award', 'https://www.nxtbook.com/nxtbooks/ieee/awards_2010/index.php?startid=21#/p/20']}\"</span>,\n",
       "<span style=\"color: #7fbf7f; text-decoration-color: #7fbf7f\">│   │   │   </span><span style=\"color: #008000; text-decoration-color: #008000\">'input_query'</span>: <span style=\"color: #008000; text-decoration-color: #008000\">'Who received the IEEE Frank Rosenblatt Award in 2010?'</span>,\n",
       "<span style=\"color: #7fbf7f; text-decoration-color: #7fbf7f\">│   │   │   </span><span style=\"color: #008000; text-decoration-color: #008000\">'expected_answer'</span>: <span style=\"color: #008000; text-decoration-color: #008000\">'Michio Sugeno'</span>,\n",
       "<span style=\"color: #7fbf7f; text-decoration-color: #7fbf7f\">│   │   │   </span><span style=\"color: #008000; text-decoration-color: #008000\">'chat_completion_input'</span>: <span style=\"color: #008000; text-decoration-color: #008000\">'[{\"role\": \"user\", \"content\": \"Who received the IEEE Frank Rosenblatt Award in 2010?\"}]'</span>\n",
       "<span style=\"color: #7fbf7f; text-decoration-color: #7fbf7f\">│   │   </span><span style=\"font-weight: bold\">}</span>,\n",
       "<span style=\"color: #7fbf7f; text-decoration-color: #7fbf7f\">│   │   </span><span style=\"font-weight: bold\">{</span>\n",
       "<span style=\"color: #7fbf7f; text-decoration-color: #7fbf7f\">│   │   │   </span><span style=\"color: #008000; text-decoration-color: #008000\">'metadata'</span>: <span style=\"color: #008000; text-decoration-color: #008000\">\"{'topic': 'Science and technology', 'answer_type': 'Person', 'urls': ['https://en.wikipedia.org/wiki/The_Oceanography_Society', 'https://en.wikipedia.org/wiki/The_Oceanography_Society', 'https://tos.org/jerlov-medal', 'https://www.eurekalert.org/news-releases/490504']}\"</span>,\n",
       "<span style=\"color: #7fbf7f; text-decoration-color: #7fbf7f\">│   │   │   </span><span style=\"color: #008000; text-decoration-color: #008000\">'input_query'</span>: <span style=\"color: #008000; text-decoration-color: #008000\">\"Who was awarded the Oceanography Society's Jerlov Award in 2018?\"</span>,\n",
       "<span style=\"color: #7fbf7f; text-decoration-color: #7fbf7f\">│   │   │   </span><span style=\"color: #008000; text-decoration-color: #008000\">'expected_answer'</span>: <span style=\"color: #008000; text-decoration-color: #008000\">'Annick Bricaud'</span>,\n",
       "<span style=\"color: #7fbf7f; text-decoration-color: #7fbf7f\">│   │   │   </span><span style=\"color: #008000; text-decoration-color: #008000\">'chat_completion_input'</span>: <span style=\"color: #008000; text-decoration-color: #008000\">'[{\"role\": \"user\", \"content\": \"Who was awarded the Oceanography Society\\'s Jerlov Award in 2018?\"}]'</span>\n",
       "<span style=\"color: #7fbf7f; text-decoration-color: #7fbf7f\">│   │   </span><span style=\"font-weight: bold\">}</span>,\n",
       "<span style=\"color: #7fbf7f; text-decoration-color: #7fbf7f\">│   │   </span><span style=\"font-weight: bold\">{</span>\n",
       "<span style=\"color: #7fbf7f; text-decoration-color: #7fbf7f\">│   │   │   </span><span style=\"color: #008000; text-decoration-color: #008000\">'metadata'</span>: <span style=\"color: #008000; text-decoration-color: #008000\">\"{'topic': 'Geography', 'answer_type': 'Place', 'urls': ['https://en.wikipedia.org/wiki/Radcliffe_College', 'https://en.wikipedia.org/wiki/Radcliffe_College', 'https://www.braingainmag.com/7-historic-liberal-arts-colleges-in-the-us.htm', 'https://thepeoplesarchive.dclibrary.org/repositories/2/resources/2228']}\"</span>,\n",
       "<span style=\"color: #7fbf7f; text-decoration-color: #7fbf7f\">│   │   │   </span><span style=\"color: #008000; text-decoration-color: #008000\">'input_query'</span>: <span style=\"color: #008000; text-decoration-color: #008000\">\"What's the name of the women's liberal arts college in Cambridge, Massachusetts?\"</span>,\n",
       "<span style=\"color: #7fbf7f; text-decoration-color: #7fbf7f\">│   │   │   </span><span style=\"color: #008000; text-decoration-color: #008000\">'expected_answer'</span>: <span style=\"color: #008000; text-decoration-color: #008000\">'Radcliffe College'</span>,\n",
       "<span style=\"color: #7fbf7f; text-decoration-color: #7fbf7f\">│   │   │   </span><span style=\"color: #008000; text-decoration-color: #008000\">'chat_completion_input'</span>: <span style=\"color: #008000; text-decoration-color: #008000\">'[{\"role\": \"user\", \"content\": \"What\\'s the name of the women\\'s liberal arts college in Cambridge, Massachusetts?\"}]'</span>\n",
       "<span style=\"color: #7fbf7f; text-decoration-color: #7fbf7f\">│   │   </span><span style=\"font-weight: bold\">}</span>,\n",
       "<span style=\"color: #7fbf7f; text-decoration-color: #7fbf7f\">│   │   </span><span style=\"font-weight: bold\">{</span>\n",
       "<span style=\"color: #7fbf7f; text-decoration-color: #7fbf7f\">│   │   │   </span><span style=\"color: #008000; text-decoration-color: #008000\">'metadata'</span>: <span style=\"color: #008000; text-decoration-color: #008000\">\"{'topic': 'Sports', 'answer_type': 'Person', 'urls': ['https://en.wikipedia.org/wiki/Adolf_Anderssen', 'https://www.chessgames.com/perl/chess.pl?tid=79429', 'https://en.wikipedia.org/wiki/Adolf_Anderssen']}\"</span>,\n",
       "<span style=\"color: #7fbf7f; text-decoration-color: #7fbf7f\">│   │   │   </span><span style=\"color: #008000; text-decoration-color: #008000\">'input_query'</span>: <span style=\"color: #008000; text-decoration-color: #008000\">'In whose honor was the Leipzig 1877 tournament organized?'</span>,\n",
       "<span style=\"color: #7fbf7f; text-decoration-color: #7fbf7f\">│   │   │   </span><span style=\"color: #008000; text-decoration-color: #008000\">'expected_answer'</span>: <span style=\"color: #008000; text-decoration-color: #008000\">'Adolf Anderssen'</span>,\n",
       "<span style=\"color: #7fbf7f; text-decoration-color: #7fbf7f\">│   │   │   </span><span style=\"color: #008000; text-decoration-color: #008000\">'chat_completion_input'</span>: <span style=\"color: #008000; text-decoration-color: #008000\">'[{\"role\": \"user\", \"content\": \"In whose honor was the Leipzig 1877 tournament organized?\"}]'</span>\n",
       "<span style=\"color: #7fbf7f; text-decoration-color: #7fbf7f\">│   │   </span><span style=\"font-weight: bold\">}</span>,\n",
       "<span style=\"color: #7fbf7f; text-decoration-color: #7fbf7f\">│   │   </span><span style=\"font-weight: bold\">{</span>\n",
       "<span style=\"color: #7fbf7f; text-decoration-color: #7fbf7f\">│   │   │   </span><span style=\"color: #008000; text-decoration-color: #008000\">'metadata'</span>: <span style=\"color: #008000; text-decoration-color: #008000\">\"{'topic': 'Art', 'answer_type': 'Person', 'urls': ['https://www.gutenberg.org/files/60408/60408-h/60408-h.htm\\\\nhttps://en.wikipedia.org/wiki/Achilleion_(Corfu)', 'https://www.gutenberg.org/cache/epub/60408/pg60408-images.html', 'https://archive.org/stream/elizabethempres01burggoog/elizabethempres01burggoog_djvu.txt', 'https://www.habsburger.net/en/chapter/achilleion-corfu-elisabeths-flight-antiquity']}\"</span>,\n",
       "<span style=\"color: #7fbf7f; text-decoration-color: #7fbf7f\">│   │   │   </span><span style=\"color: #008000; text-decoration-color: #008000\">'input_query'</span>: <span style=\"color: #008000; text-decoration-color: #008000\">\"According to Karl Küchler, what did Empress Elizabeth of Austria's favorite sculpture depict, which was made for her villa Achilleion at Corfu?\"</span>,\n",
       "<span style=\"color: #7fbf7f; text-decoration-color: #7fbf7f\">│   │   │   </span><span style=\"color: #008000; text-decoration-color: #008000\">'expected_answer'</span>: <span style=\"color: #008000; text-decoration-color: #008000\">'Poet Henrich Heine.'</span>,\n",
       "<span style=\"color: #7fbf7f; text-decoration-color: #7fbf7f\">│   │   │   </span><span style=\"color: #008000; text-decoration-color: #008000\">'chat_completion_input'</span>: <span style=\"color: #008000; text-decoration-color: #008000\">'[{\"role\": \"user\", \"content\": \"According to Karl K\\\\u00fcchler, what did Empress Elizabeth of Austria\\'s favorite sculpture depict, which was made for her villa Achilleion at Corfu?\"}]'</span>\n",
       "<span style=\"color: #7fbf7f; text-decoration-color: #7fbf7f\">│   │   </span><span style=\"font-weight: bold\">}</span>\n",
       "<span style=\"color: #7fbf7f; text-decoration-color: #7fbf7f\">│   </span><span style=\"font-weight: bold\">]</span>,\n",
       "<span style=\"color: #7fbf7f; text-decoration-color: #7fbf7f\">│   </span><span style=\"color: #808000; text-decoration-color: #808000\">has_more</span>=<span style=\"color: #00ff00; text-decoration-color: #00ff00; font-style: italic\">True</span>,\n",
       "<span style=\"color: #7fbf7f; text-decoration-color: #7fbf7f\">│   </span><span style=\"color: #808000; text-decoration-color: #808000\">url</span>=<span style=\"color: #008000; text-decoration-color: #008000\">'/v1/datasetio/iterrows/{dataset_id:path}'</span>\n",
       "<span style=\"font-weight: bold\">)</span>\n",
       "</pre>\n"
      ],
      "text/plain": [
       "\u001b[1;35mDatasetIterrowsResponse\u001b[0m\u001b[1m(\u001b[0m\n",
       "\u001b[2;32m│   \u001b[0m\u001b[33mdata\u001b[0m=\u001b[1m[\u001b[0m\n",
       "\u001b[2;32m│   │   \u001b[0m\u001b[1m{\u001b[0m\n",
       "\u001b[2;32m│   │   │   \u001b[0m\u001b[32m'metadata'\u001b[0m: \u001b[32m\"\u001b[0m\u001b[32m{\u001b[0m\u001b[32m'topic': 'Science and technology', 'answer_type': 'Person', 'urls': \u001b[0m\u001b[32m[\u001b[0m\u001b[32m'https://en.wikipedia.org/wiki/IEEE_Frank_Rosenblatt_Award', 'https://ieeexplore.ieee.org/author/37271220500', 'https://en.wikipedia.org/wiki/IEEE_Frank_Rosenblatt_Award', 'https://www.nxtbook.com/nxtbooks/ieee/awards_2010/index.php?\u001b[0m\u001b[32mstartid\u001b[0m\u001b[32m=\u001b[0m\u001b[32m21\u001b[0m\u001b[32m#/p/20'\u001b[0m\u001b[32m]\u001b[0m\u001b[32m}\u001b[0m\u001b[32m\"\u001b[0m,\n",
       "\u001b[2;32m│   │   │   \u001b[0m\u001b[32m'input_query'\u001b[0m: \u001b[32m'Who received the IEEE Frank Rosenblatt Award in 2010?'\u001b[0m,\n",
       "\u001b[2;32m│   │   │   \u001b[0m\u001b[32m'expected_answer'\u001b[0m: \u001b[32m'Michio Sugeno'\u001b[0m,\n",
       "\u001b[2;32m│   │   │   \u001b[0m\u001b[32m'chat_completion_input'\u001b[0m: \u001b[32m'\u001b[0m\u001b[32m[\u001b[0m\u001b[32m{\u001b[0m\u001b[32m\"role\": \"user\", \"content\": \"Who received the IEEE Frank Rosenblatt Award in 2010?\"\u001b[0m\u001b[32m}\u001b[0m\u001b[32m]\u001b[0m\u001b[32m'\u001b[0m\n",
       "\u001b[2;32m│   │   \u001b[0m\u001b[1m}\u001b[0m,\n",
       "\u001b[2;32m│   │   \u001b[0m\u001b[1m{\u001b[0m\n",
       "\u001b[2;32m│   │   │   \u001b[0m\u001b[32m'metadata'\u001b[0m: \u001b[32m\"\u001b[0m\u001b[32m{\u001b[0m\u001b[32m'topic': 'Science and technology', 'answer_type': 'Person', 'urls': \u001b[0m\u001b[32m[\u001b[0m\u001b[32m'https://en.wikipedia.org/wiki/The_Oceanography_Society', 'https://en.wikipedia.org/wiki/The_Oceanography_Society', 'https://tos.org/jerlov-medal', 'https://www.eurekalert.org/news-releases/490504'\u001b[0m\u001b[32m]\u001b[0m\u001b[32m}\u001b[0m\u001b[32m\"\u001b[0m,\n",
       "\u001b[2;32m│   │   │   \u001b[0m\u001b[32m'input_query'\u001b[0m: \u001b[32m\"Who was awarded the Oceanography Society's Jerlov Award in 2018?\"\u001b[0m,\n",
       "\u001b[2;32m│   │   │   \u001b[0m\u001b[32m'expected_answer'\u001b[0m: \u001b[32m'Annick Bricaud'\u001b[0m,\n",
       "\u001b[2;32m│   │   │   \u001b[0m\u001b[32m'chat_completion_input'\u001b[0m: \u001b[32m'\u001b[0m\u001b[32m[\u001b[0m\u001b[32m{\u001b[0m\u001b[32m\"role\": \"user\", \"content\": \"Who was awarded the Oceanography Society\\'s Jerlov Award in 2018?\"\u001b[0m\u001b[32m}\u001b[0m\u001b[32m]\u001b[0m\u001b[32m'\u001b[0m\n",
       "\u001b[2;32m│   │   \u001b[0m\u001b[1m}\u001b[0m,\n",
       "\u001b[2;32m│   │   \u001b[0m\u001b[1m{\u001b[0m\n",
       "\u001b[2;32m│   │   │   \u001b[0m\u001b[32m'metadata'\u001b[0m: \u001b[32m\"\u001b[0m\u001b[32m{\u001b[0m\u001b[32m'topic': 'Geography', 'answer_type': 'Place', 'urls': \u001b[0m\u001b[32m[\u001b[0m\u001b[32m'https://en.wikipedia.org/wiki/Radcliffe_College', 'https://en.wikipedia.org/wiki/Radcliffe_College', 'https://www.braingainmag.com/7-historic-liberal-arts-colleges-in-the-us.htm', 'https://thepeoplesarchive.dclibrary.org/repositories/2/resources/2228'\u001b[0m\u001b[32m]\u001b[0m\u001b[32m}\u001b[0m\u001b[32m\"\u001b[0m,\n",
       "\u001b[2;32m│   │   │   \u001b[0m\u001b[32m'input_query'\u001b[0m: \u001b[32m\"What's the name of the women's liberal arts college in Cambridge, Massachusetts?\"\u001b[0m,\n",
       "\u001b[2;32m│   │   │   \u001b[0m\u001b[32m'expected_answer'\u001b[0m: \u001b[32m'Radcliffe College'\u001b[0m,\n",
       "\u001b[2;32m│   │   │   \u001b[0m\u001b[32m'chat_completion_input'\u001b[0m: \u001b[32m'\u001b[0m\u001b[32m[\u001b[0m\u001b[32m{\u001b[0m\u001b[32m\"role\": \"user\", \"content\": \"What\\'s the name of the women\\'s liberal arts college in Cambridge, Massachusetts?\"\u001b[0m\u001b[32m}\u001b[0m\u001b[32m]\u001b[0m\u001b[32m'\u001b[0m\n",
       "\u001b[2;32m│   │   \u001b[0m\u001b[1m}\u001b[0m,\n",
       "\u001b[2;32m│   │   \u001b[0m\u001b[1m{\u001b[0m\n",
       "\u001b[2;32m│   │   │   \u001b[0m\u001b[32m'metadata'\u001b[0m: \u001b[32m\"\u001b[0m\u001b[32m{\u001b[0m\u001b[32m'topic': 'Sports', 'answer_type': 'Person', 'urls': \u001b[0m\u001b[32m[\u001b[0m\u001b[32m'https://en.wikipedia.org/wiki/Adolf_Anderssen', 'https://www.chessgames.com/perl/chess.pl?\u001b[0m\u001b[32mtid\u001b[0m\u001b[32m=\u001b[0m\u001b[32m79429\u001b[0m\u001b[32m', 'https://en.wikipedia.org/wiki/Adolf_Anderssen'\u001b[0m\u001b[32m]\u001b[0m\u001b[32m}\u001b[0m\u001b[32m\"\u001b[0m,\n",
       "\u001b[2;32m│   │   │   \u001b[0m\u001b[32m'input_query'\u001b[0m: \u001b[32m'In whose honor was the Leipzig 1877 tournament organized?'\u001b[0m,\n",
       "\u001b[2;32m│   │   │   \u001b[0m\u001b[32m'expected_answer'\u001b[0m: \u001b[32m'Adolf Anderssen'\u001b[0m,\n",
       "\u001b[2;32m│   │   │   \u001b[0m\u001b[32m'chat_completion_input'\u001b[0m: \u001b[32m'\u001b[0m\u001b[32m[\u001b[0m\u001b[32m{\u001b[0m\u001b[32m\"role\": \"user\", \"content\": \"In whose honor was the Leipzig 1877 tournament organized?\"\u001b[0m\u001b[32m}\u001b[0m\u001b[32m]\u001b[0m\u001b[32m'\u001b[0m\n",
       "\u001b[2;32m│   │   \u001b[0m\u001b[1m}\u001b[0m,\n",
       "\u001b[2;32m│   │   \u001b[0m\u001b[1m{\u001b[0m\n",
       "\u001b[2;32m│   │   │   \u001b[0m\u001b[32m'metadata'\u001b[0m: \u001b[32m\"\u001b[0m\u001b[32m{\u001b[0m\u001b[32m'topic': 'Art', 'answer_type': 'Person', 'urls': \u001b[0m\u001b[32m[\u001b[0m\u001b[32m'https://www.gutenberg.org/files/60408/60408-h/60408-h.htm\\\\nhttps://en.wikipedia.org/wiki/Achilleion_\u001b[0m\u001b[32m(\u001b[0m\u001b[32mCorfu\u001b[0m\u001b[32m)\u001b[0m\u001b[32m', 'https://www.gutenberg.org/cache/epub/60408/pg60408-images.html', 'https://archive.org/stream/elizabethempres01burggoog/elizabethempres01burggoog_djvu.txt', 'https://www.habsburger.net/en/chapter/achilleion-corfu-elisabeths-flight-antiquity'\u001b[0m\u001b[32m]\u001b[0m\u001b[32m}\u001b[0m\u001b[32m\"\u001b[0m,\n",
       "\u001b[2;32m│   │   │   \u001b[0m\u001b[32m'input_query'\u001b[0m: \u001b[32m\"According to Karl Küchler, what did Empress Elizabeth of Austria's favorite sculpture depict, which was made for her villa Achilleion at Corfu?\"\u001b[0m,\n",
       "\u001b[2;32m│   │   │   \u001b[0m\u001b[32m'expected_answer'\u001b[0m: \u001b[32m'Poet Henrich Heine.'\u001b[0m,\n",
       "\u001b[2;32m│   │   │   \u001b[0m\u001b[32m'chat_completion_input'\u001b[0m: \u001b[32m'\u001b[0m\u001b[32m[\u001b[0m\u001b[32m{\u001b[0m\u001b[32m\"role\": \"user\", \"content\": \"According to Karl K\\\\u00fcchler, what did Empress Elizabeth of Austria\\'s favorite sculpture depict, which was made for her villa Achilleion at Corfu?\"\u001b[0m\u001b[32m}\u001b[0m\u001b[32m]\u001b[0m\u001b[32m'\u001b[0m\n",
       "\u001b[2;32m│   │   \u001b[0m\u001b[1m}\u001b[0m\n",
       "\u001b[2;32m│   \u001b[0m\u001b[1m]\u001b[0m,\n",
       "\u001b[2;32m│   \u001b[0m\u001b[33mhas_more\u001b[0m=\u001b[3;92mTrue\u001b[0m,\n",
       "\u001b[2;32m│   \u001b[0m\u001b[33murl\u001b[0m=\u001b[32m'/v1/datasetio/iterrows/\u001b[0m\u001b[32m{\u001b[0m\u001b[32mdataset_id:path\u001b[0m\u001b[32m}\u001b[0m\u001b[32m'\u001b[0m\n",
       "\u001b[1m)\u001b[0m\n"
      ]
     },
     "metadata": {},
     "output_type": "display_data"
    }
   ],
   "source": [
    "pprint(eval_rows)"
   ]
  },
  {
   "cell_type": "markdown",
   "id": "4433f2be-6191-45d1-887b-6733215a3cfd",
   "metadata": {},
   "source": [
    "### First just to the raw model"
   ]
  },
  {
   "cell_type": "code",
   "execution_count": 85,
   "id": "c8309743-b63d-4275-8ed0-e039d0d57b2f",
   "metadata": {},
   "outputs": [
    {
     "name": "stderr",
     "output_type": "stream",
     "text": [
      "INFO:httpx:HTTP Request: POST http://llamastack-with-config-service.default.svc.cluster.local:8321/v1/eval/benchmarks \"HTTP/1.1 400 Bad Request\"\n"
     ]
    },
    {
     "ename": "BadRequestError",
     "evalue": "Error code: 400 - {'detail': 'Invalid value: No provider specified and multiple providers available. Please specify a provider_id.'}",
     "output_type": "error",
     "traceback": [
      "\u001b[31m---------------------------------------------------------------------------\u001b[39m",
      "\u001b[31mBadRequestError\u001b[39m                           Traceback (most recent call last)",
      "\u001b[36mCell\u001b[39m\u001b[36m \u001b[39m\u001b[32mIn[85]\u001b[39m\u001b[32m, line 1\u001b[39m\n\u001b[32m----> \u001b[39m\u001b[32m1\u001b[39m \u001b[43mclient\u001b[49m\u001b[43m.\u001b[49m\u001b[43mbenchmarks\u001b[49m\u001b[43m.\u001b[49m\u001b[43mregister\u001b[49m\u001b[43m(\u001b[49m\n\u001b[32m      2\u001b[39m \u001b[43m    \u001b[49m\u001b[43mbenchmark_id\u001b[49m\u001b[43m=\u001b[49m\u001b[33;43m\"\u001b[39;49m\u001b[33;43mmeta-reference::simpleqa\u001b[39;49m\u001b[33;43m\"\u001b[39;49m\u001b[43m,\u001b[49m\n\u001b[32m      3\u001b[39m \u001b[43m    \u001b[49m\u001b[43mdataset_id\u001b[49m\u001b[43m=\u001b[49m\u001b[43msimpleqa_dataset_id\u001b[49m\u001b[43m,\u001b[49m\n\u001b[32m      4\u001b[39m \u001b[43m    \u001b[49m\u001b[43mscoring_functions\u001b[49m\u001b[43m=\u001b[49m\u001b[43m[\u001b[49m\u001b[33;43m\"\u001b[39;49m\u001b[33;43mllm-as-judge::base\u001b[39;49m\u001b[33;43m\"\u001b[39;49m\u001b[43m]\u001b[49m\u001b[43m,\u001b[49m\n\u001b[32m      5\u001b[39m \u001b[43m)\u001b[49m\n\u001b[32m      7\u001b[39m response = client.eval.evaluate_rows(\n\u001b[32m      8\u001b[39m     benchmark_id=\u001b[33m\"\u001b[39m\u001b[33mmeta-reference::simpleqa\u001b[39m\u001b[33m\"\u001b[39m,\n\u001b[32m      9\u001b[39m     input_rows=eval_rows.data,\n\u001b[32m   (...)\u001b[39m\u001b[32m     23\u001b[39m     },\n\u001b[32m     24\u001b[39m )\n\u001b[32m     25\u001b[39m pprint(response)\n",
      "\u001b[36mFile \u001b[39m\u001b[32m/opt/app-root/lib64/python3.11/site-packages/llama_stack_client/resources/benchmarks.py:145\u001b[39m, in \u001b[36mBenchmarksResource.register\u001b[39m\u001b[34m(self, benchmark_id, dataset_id, scoring_functions, metadata, provider_benchmark_id, provider_id, extra_headers, extra_query, extra_body, timeout)\u001b[39m\n\u001b[32m    120\u001b[39m \u001b[38;5;250m\u001b[39m\u001b[33;03m\"\"\"\u001b[39;00m\n\u001b[32m    121\u001b[39m \u001b[33;03mRegister a benchmark.\u001b[39;00m\n\u001b[32m    122\u001b[39m \n\u001b[32m   (...)\u001b[39m\u001b[32m    142\u001b[39m \u001b[33;03m  timeout: Override the client-level default timeout for this request, in seconds\u001b[39;00m\n\u001b[32m    143\u001b[39m \u001b[33;03m\"\"\"\u001b[39;00m\n\u001b[32m    144\u001b[39m extra_headers = {\u001b[33m\"\u001b[39m\u001b[33mAccept\u001b[39m\u001b[33m\"\u001b[39m: \u001b[33m\"\u001b[39m\u001b[33m*/*\u001b[39m\u001b[33m\"\u001b[39m, **(extra_headers \u001b[38;5;129;01mor\u001b[39;00m {})}\n\u001b[32m--> \u001b[39m\u001b[32m145\u001b[39m \u001b[38;5;28;01mreturn\u001b[39;00m \u001b[38;5;28;43mself\u001b[39;49m\u001b[43m.\u001b[49m\u001b[43m_post\u001b[49m\u001b[43m(\u001b[49m\n\u001b[32m    146\u001b[39m \u001b[43m    \u001b[49m\u001b[33;43m\"\u001b[39;49m\u001b[33;43m/v1/eval/benchmarks\u001b[39;49m\u001b[33;43m\"\u001b[39;49m\u001b[43m,\u001b[49m\n\u001b[32m    147\u001b[39m \u001b[43m    \u001b[49m\u001b[43mbody\u001b[49m\u001b[43m=\u001b[49m\u001b[43mmaybe_transform\u001b[49m\u001b[43m(\u001b[49m\n\u001b[32m    148\u001b[39m \u001b[43m        \u001b[49m\u001b[43m{\u001b[49m\n\u001b[32m    149\u001b[39m \u001b[43m            \u001b[49m\u001b[33;43m\"\u001b[39;49m\u001b[33;43mbenchmark_id\u001b[39;49m\u001b[33;43m\"\u001b[39;49m\u001b[43m:\u001b[49m\u001b[43m \u001b[49m\u001b[43mbenchmark_id\u001b[49m\u001b[43m,\u001b[49m\n\u001b[32m    150\u001b[39m \u001b[43m            \u001b[49m\u001b[33;43m\"\u001b[39;49m\u001b[33;43mdataset_id\u001b[39;49m\u001b[33;43m\"\u001b[39;49m\u001b[43m:\u001b[49m\u001b[43m \u001b[49m\u001b[43mdataset_id\u001b[49m\u001b[43m,\u001b[49m\n\u001b[32m    151\u001b[39m \u001b[43m            \u001b[49m\u001b[33;43m\"\u001b[39;49m\u001b[33;43mscoring_functions\u001b[39;49m\u001b[33;43m\"\u001b[39;49m\u001b[43m:\u001b[49m\u001b[43m \u001b[49m\u001b[43mscoring_functions\u001b[49m\u001b[43m,\u001b[49m\n\u001b[32m    152\u001b[39m \u001b[43m            \u001b[49m\u001b[33;43m\"\u001b[39;49m\u001b[33;43mmetadata\u001b[39;49m\u001b[33;43m\"\u001b[39;49m\u001b[43m:\u001b[49m\u001b[43m \u001b[49m\u001b[43mmetadata\u001b[49m\u001b[43m,\u001b[49m\n\u001b[32m    153\u001b[39m \u001b[43m            \u001b[49m\u001b[33;43m\"\u001b[39;49m\u001b[33;43mprovider_benchmark_id\u001b[39;49m\u001b[33;43m\"\u001b[39;49m\u001b[43m:\u001b[49m\u001b[43m \u001b[49m\u001b[43mprovider_benchmark_id\u001b[49m\u001b[43m,\u001b[49m\n\u001b[32m    154\u001b[39m \u001b[43m            \u001b[49m\u001b[33;43m\"\u001b[39;49m\u001b[33;43mprovider_id\u001b[39;49m\u001b[33;43m\"\u001b[39;49m\u001b[43m:\u001b[49m\u001b[43m \u001b[49m\u001b[43mprovider_id\u001b[49m\u001b[43m,\u001b[49m\n\u001b[32m    155\u001b[39m \u001b[43m        \u001b[49m\u001b[43m}\u001b[49m\u001b[43m,\u001b[49m\n\u001b[32m    156\u001b[39m \u001b[43m        \u001b[49m\u001b[43mbenchmark_register_params\u001b[49m\u001b[43m.\u001b[49m\u001b[43mBenchmarkRegisterParams\u001b[49m\u001b[43m,\u001b[49m\n\u001b[32m    157\u001b[39m \u001b[43m    \u001b[49m\u001b[43m)\u001b[49m\u001b[43m,\u001b[49m\n\u001b[32m    158\u001b[39m \u001b[43m    \u001b[49m\u001b[43moptions\u001b[49m\u001b[43m=\u001b[49m\u001b[43mmake_request_options\u001b[49m\u001b[43m(\u001b[49m\n\u001b[32m    159\u001b[39m \u001b[43m        \u001b[49m\u001b[43mextra_headers\u001b[49m\u001b[43m=\u001b[49m\u001b[43mextra_headers\u001b[49m\u001b[43m,\u001b[49m\u001b[43m \u001b[49m\u001b[43mextra_query\u001b[49m\u001b[43m=\u001b[49m\u001b[43mextra_query\u001b[49m\u001b[43m,\u001b[49m\u001b[43m \u001b[49m\u001b[43mextra_body\u001b[49m\u001b[43m=\u001b[49m\u001b[43mextra_body\u001b[49m\u001b[43m,\u001b[49m\u001b[43m \u001b[49m\u001b[43mtimeout\u001b[49m\u001b[43m=\u001b[49m\u001b[43mtimeout\u001b[49m\n\u001b[32m    160\u001b[39m \u001b[43m    \u001b[49m\u001b[43m)\u001b[49m\u001b[43m,\u001b[49m\n\u001b[32m    161\u001b[39m \u001b[43m    \u001b[49m\u001b[43mcast_to\u001b[49m\u001b[43m=\u001b[49m\u001b[43mNoneType\u001b[49m\u001b[43m,\u001b[49m\n\u001b[32m    162\u001b[39m \u001b[43m\u001b[49m\u001b[43m)\u001b[49m\n",
      "\u001b[36mFile \u001b[39m\u001b[32m/opt/app-root/lib64/python3.11/site-packages/llama_stack_client/_base_client.py:1232\u001b[39m, in \u001b[36mSyncAPIClient.post\u001b[39m\u001b[34m(self, path, cast_to, body, options, files, stream, stream_cls)\u001b[39m\n\u001b[32m   1218\u001b[39m \u001b[38;5;28;01mdef\u001b[39;00m\u001b[38;5;250m \u001b[39m\u001b[34mpost\u001b[39m(\n\u001b[32m   1219\u001b[39m     \u001b[38;5;28mself\u001b[39m,\n\u001b[32m   1220\u001b[39m     path: \u001b[38;5;28mstr\u001b[39m,\n\u001b[32m   (...)\u001b[39m\u001b[32m   1227\u001b[39m     stream_cls: \u001b[38;5;28mtype\u001b[39m[_StreamT] | \u001b[38;5;28;01mNone\u001b[39;00m = \u001b[38;5;28;01mNone\u001b[39;00m,\n\u001b[32m   1228\u001b[39m ) -> ResponseT | _StreamT:\n\u001b[32m   1229\u001b[39m     opts = FinalRequestOptions.construct(\n\u001b[32m   1230\u001b[39m         method=\u001b[33m\"\u001b[39m\u001b[33mpost\u001b[39m\u001b[33m\"\u001b[39m, url=path, json_data=body, files=to_httpx_files(files), **options\n\u001b[32m   1231\u001b[39m     )\n\u001b[32m-> \u001b[39m\u001b[32m1232\u001b[39m     \u001b[38;5;28;01mreturn\u001b[39;00m cast(ResponseT, \u001b[38;5;28;43mself\u001b[39;49m\u001b[43m.\u001b[49m\u001b[43mrequest\u001b[49m\u001b[43m(\u001b[49m\u001b[43mcast_to\u001b[49m\u001b[43m,\u001b[49m\u001b[43m \u001b[49m\u001b[43mopts\u001b[49m\u001b[43m,\u001b[49m\u001b[43m \u001b[49m\u001b[43mstream\u001b[49m\u001b[43m=\u001b[49m\u001b[43mstream\u001b[49m\u001b[43m,\u001b[49m\u001b[43m \u001b[49m\u001b[43mstream_cls\u001b[49m\u001b[43m=\u001b[49m\u001b[43mstream_cls\u001b[49m\u001b[43m)\u001b[49m)\n",
      "\u001b[36mFile \u001b[39m\u001b[32m/opt/app-root/lib64/python3.11/site-packages/llama_stack_client/_base_client.py:1034\u001b[39m, in \u001b[36mSyncAPIClient.request\u001b[39m\u001b[34m(self, cast_to, options, stream, stream_cls)\u001b[39m\n\u001b[32m   1031\u001b[39m             err.response.read()\n\u001b[32m   1033\u001b[39m         log.debug(\u001b[33m\"\u001b[39m\u001b[33mRe-raising status error\u001b[39m\u001b[33m\"\u001b[39m)\n\u001b[32m-> \u001b[39m\u001b[32m1034\u001b[39m         \u001b[38;5;28;01mraise\u001b[39;00m \u001b[38;5;28mself\u001b[39m._make_status_error_from_response(err.response) \u001b[38;5;28;01mfrom\u001b[39;00m\u001b[38;5;250m \u001b[39m\u001b[38;5;28;01mNone\u001b[39;00m\n\u001b[32m   1036\u001b[39m     \u001b[38;5;28;01mbreak\u001b[39;00m\n\u001b[32m   1038\u001b[39m \u001b[38;5;28;01massert\u001b[39;00m response \u001b[38;5;129;01mis\u001b[39;00m \u001b[38;5;129;01mnot\u001b[39;00m \u001b[38;5;28;01mNone\u001b[39;00m, \u001b[33m\"\u001b[39m\u001b[33mcould not resolve response (should never happen)\u001b[39m\u001b[33m\"\u001b[39m\n",
      "\u001b[31mBadRequestError\u001b[39m: Error code: 400 - {'detail': 'Invalid value: No provider specified and multiple providers available. Please specify a provider_id.'}"
     ]
    }
   ],
   "source": [
    "client.benchmarks.register(\n",
    "    benchmark_id=\"meta-reference::simpleqa\",\n",
    "    dataset_id=simpleqa_dataset_id,\n",
    "    scoring_functions=[\"llm-as-judge::base\"],\n",
    ")\n",
    "\n",
    "response = client.eval.evaluate_rows(\n",
    "    benchmark_id=\"meta-reference::simpleqa\",\n",
    "    input_rows=eval_rows.data,\n",
    "    scoring_functions=[\"llm-as-judge::base\"],\n",
    "    benchmark_config={\n",
    "        \"eval_candidate\": {\n",
    "            \"type\": \"model\",\n",
    "            \"model\": \"llama32\",\n",
    "            \"sampling_params\": {\n",
    "                \"strategy\": {\n",
    "                    \"type\": \"greedy\",\n",
    "                },\n",
    "                \"max_tokens\": 4096,\n",
    "                \"repeat_penalty\": 1.0,\n",
    "            },\n",
    "        },\n",
    "    },\n",
    ")\n",
    "pprint(response)\n"
   ]
  },
  {
   "cell_type": "markdown",
   "id": "311223d3-6bf0-4231-936b-baaa4574b2da",
   "metadata": {},
   "source": [
    "### Then to an agent"
   ]
  },
  {
   "cell_type": "code",
   "execution_count": 98,
   "id": "1199a883-10f1-41c3-8ee4-586ecdc7ed00",
   "metadata": {},
   "outputs": [
    {
     "name": "stderr",
     "output_type": "stream",
     "text": [
      "INFO:httpx:HTTP Request: POST http://llama-stack.genaiops-rag.svc.cluster.local/v1/eval/benchmarks/meta-reference::simpleqa/evaluations \"HTTP/1.1 200 OK\"\n"
     ]
    },
    {
     "data": {
      "text/html": [
       "<pre style=\"white-space:pre;overflow-x:auto;line-height:normal;font-family:Menlo,'DejaVu Sans Mono',consolas,'Courier New',monospace\"><span style=\"color: #800080; text-decoration-color: #800080; font-weight: bold\">EvaluateResponse</span><span style=\"font-weight: bold\">(</span>\n",
       "<span style=\"color: #7fbf7f; text-decoration-color: #7fbf7f\">│   </span><span style=\"color: #808000; text-decoration-color: #808000\">generations</span>=<span style=\"font-weight: bold\">[</span>\n",
       "<span style=\"color: #7fbf7f; text-decoration-color: #7fbf7f\">│   │   </span><span style=\"font-weight: bold\">{</span>\n",
       "<span style=\"color: #7fbf7f; text-decoration-color: #7fbf7f\">│   │   │   </span><span style=\"color: #008000; text-decoration-color: #008000\">'generated_answer'</span>: <span style=\"color: #008000; text-decoration-color: #008000\">'call_id=\\'chatcmpl-tool-14a5546ea7754594a8b842792c76cfe6\\' tool_name=\\'brave_search\\' arguments=\\'{\"query\": \"IEEE Frank Rosenblatt Award 2010 recipient\", \"top_k\": \"[{\\\\\\\\\"title\\\\\\\\\": \\\\\\\\\"Michio Sugeno | IEEE Xplore Author Details\\\\\\\\\", \\\\\\\\\"url\\\\\\\\\": \\\\\\\\\"https://ieeexplore.ieee.org/author/37271220500\\\\\\\\\", \\\\\\\\\"content\\\\\\\\\": \\\\\\\\\"He is the first recipient of IEEE CIS Pioneer Award in Fuzzy Systems with Zadeh, in 2000. He was the recipient of the 2010 IEEE Frank Rosenblatt Award, and also the recipient of IEEE International Conference on Systems, Man, and Cybernetics 2017 Lotfi A. Zadeh Pioneer Award.\\\\\\\\\", \\\\\\\\\"score\\\\\\\\\": 0.8708723, \\\\\\\\\"raw_content\\\\\\\\\": null}, {\\\\\\\\\"title\\\\\\\\\": \\\\\\\\\"Non-Additive Measures: Theory and Applications | SpringerLink\\\\\\\\\", \\\\\\\\\"url\\\\\\\\\": \\\\\\\\\"https://link.springer.com/book/10.1007/978-3-319-03155-2\\\\\\\\\", \\\\\\\\\"content\\\\\\\\\": \\\\\\\\\"He is the first recipient of an IEEE Pioneer Award in Fuzzy Systems with Lotfi Zadeh in 2000 and he received the 2010 IEEE Frank Rosenblatt Award in July, 2010.\\\\\\\\\", \\\\\\\\\"score\\\\\\\\\": 0.85216236, \\\\\\\\\"raw_content\\\\\\\\\": null}, {\\\\\\\\\"title\\\\\\\\\": \\\\\\\\\"IEEE Frank Rosenblatt Award - Wikipedia\\\\\\\\\", \\\\\\\\\"url\\\\\\\\\": \\\\\\\\\"https://en.wikipedia.org/wiki/IEEE_Frank_Rosenblatt_Award\\\\\\\\\", \\\\\\\\\"content\\\\\\\\\": \\\\\\\\\"IEEE Frank Rosenblatt Award - Wikipedia IEEE Frank Rosenblatt Award page at IEEE Computational Intelligence Society List of IEEE Frank Rosenblatt Award recipients IEEE awards Biomedical Engineering Award Electromagnetics Award Internet Award Photonics Award | Other IEEE-level awards |  | Society-level awards |  Seymour Cray Computer Engineering Award (Computer Society) Computer Entrepreneur Award (Computer Society) Computer Pioneer Award (Computer Society) Mills Award (Computer Society) This science awards article is a stub. IEEE Frank Rosenblatt Award page at IEEE Computational Intelligence Society List of IEEE Frank Rosenblatt Award recipients IEEE awards Biomedical Engineering Award Electromagnetics Award Internet Award Photonics Award | Other IEEE-level awards |  | Society-level awards |  Seymour Cray Computer Engineering Award (Computer Society) Computer Entrepreneur Award (Computer Society) Computer Pioneer Award (Computer Society) Mills Award (Computer Society) This science awards article is a stub.\\\\\\\\\", \\\\\\\\\"score\\\\\\\\\": 0.5565207, \\\\\\\\\"raw_content\\\\\\\\\": null}, {\\\\\\\\\"title\\\\\\\\\": \\\\\\\\\"Current IEEE Corporate Award Recipients | IEEE Awards\\\\\\\\\", \\\\\\\\\"url\\\\\\\\\": \\\\\\\\\"https://corporate-awards.ieee.org/recipients/current-recipients/\\\\\\\\\", \\\\\\\\\"content\\\\\\\\\": \\\\\\\\\"IEEE Awards IEEE Medals IEEE Technical Field Awards IEEE President\\\\\\\\\\\\\\\\u2019s Award IEEE Awards Videos IEEE Technical Field Awards IEEE Medals IEEE Technical Field Awards 2025 IEEE Medal Recipients 2025 IEEE Technical Field Awards 2025 IEEE Medal Recipients IEEE Corporate Innovation Award \\\\\\\\\\\\\\\\u201cFor sustained leadership, global service, and outstanding contributions enabling new opportunities for IEEE and its members.\\\\\\\\\\\\\\\\u201d 2025 IEEE Technical Field Awards IEEE Control Systems Award IEEE Electromagnetics Award IEEE Internet Award IEEE Photonics Award \\\\\\\\\\\\\\\\u201cFor leadership in the development and advancement of global IEEE 802 network standards.\\\\\\\\\\\\\\\\u201d IEEE Transportation Technologies Award About IEEE Awards Board Donate to IEEE Awards IEEE Awards Overview IEEE Corporate Awards Program Collabratec Volunteer for IEEE Awards\\\\\\\\\", \\\\\\\\\"score\\\\\\\\\": 0.16170406, \\\\\\\\\"raw_content\\\\\\\\\": null}, {\\\\\\\\\"title\\\\\\\\\": \\\\\\\\\"PDF\\\\\\\\\", \\\\\\\\\"url\\\\\\\\\": \\\\\\\\\"https://corporate-awards.ieee.org/wp-content/uploads/rosenblatt-rl.pdf\\\\\\\\\", \\\\\\\\\"content\\\\\\\\\": \\\\\\\\\"2010 - MICHIO SUGENO Faculty of Culture and Information Science, Doshisha University Kyoto, Japan \\\\\\\\\\\\\\\\\\\\\\\\\"For contributions to development and applications of the theory of fuzzy sets.\\\\\\\\\\\\\\\\\\\\\\\\\"\\\\\\\\\", \\\\\\\\\"score\\\\\\\\\": 0.11364864, \\\\\\\\\"raw_content\\\\\\\\\": null}]\\''</span>\n",
       "<span style=\"color: #7fbf7f; text-decoration-color: #7fbf7f\">│   │   </span><span style=\"font-weight: bold\">}</span>,\n",
       "<span style=\"color: #7fbf7f; text-decoration-color: #7fbf7f\">│   │   </span><span style=\"font-weight: bold\">{</span>\n",
       "<span style=\"color: #7fbf7f; text-decoration-color: #7fbf7f\">│   │   │   </span><span style=\"color: #008000; text-decoration-color: #008000\">'generated_answer'</span>: <span style=\"color: #008000; text-decoration-color: #008000\">\"The recipient of the Oceanography Society's Jerlov Award in 2018 was Annick Bricaud.\"</span>\n",
       "<span style=\"color: #7fbf7f; text-decoration-color: #7fbf7f\">│   │   </span><span style=\"font-weight: bold\">}</span>,\n",
       "<span style=\"color: #7fbf7f; text-decoration-color: #7fbf7f\">│   │   </span><span style=\"font-weight: bold\">{</span>\n",
       "<span style=\"color: #7fbf7f; text-decoration-color: #7fbf7f\">│   │   │   </span><span style=\"color: #008000; text-decoration-color: #008000\">'generated_answer'</span>: <span style=\"color: #008000; text-decoration-color: #008000\">\"The name of the women's liberal arts college in Cambridge, Massachusetts is Radcliffe College.\"</span>\n",
       "<span style=\"color: #7fbf7f; text-decoration-color: #7fbf7f\">│   │   </span><span style=\"font-weight: bold\">}</span>,\n",
       "<span style=\"color: #7fbf7f; text-decoration-color: #7fbf7f\">│   │   </span><span style=\"font-weight: bold\">{</span><span style=\"color: #008000; text-decoration-color: #008000\">'generated_answer'</span>: <span style=\"color: #008000; text-decoration-color: #008000\">'The Leipzig 1877 tournament was organized in honor of Adolf Anderssen.'</span><span style=\"font-weight: bold\">}</span>,\n",
       "<span style=\"color: #7fbf7f; text-decoration-color: #7fbf7f\">│   │   </span><span style=\"font-weight: bold\">{</span>\n",
       "<span style=\"color: #7fbf7f; text-decoration-color: #7fbf7f\">│   │   │   </span><span style=\"color: #008000; text-decoration-color: #008000\">'generated_answer'</span>: <span style=\"color: #008000; text-decoration-color: #008000\">'The favorite sculpture of Empress Elizabeth of Austria, which was made for her villa Achilleion at Corfu, depicted scenes from Greek mythology and Homeric stories. The exact sculpture is not specified in the search results provided.'</span>\n",
       "<span style=\"color: #7fbf7f; text-decoration-color: #7fbf7f\">│   │   </span><span style=\"font-weight: bold\">}</span>\n",
       "<span style=\"color: #7fbf7f; text-decoration-color: #7fbf7f\">│   </span><span style=\"font-weight: bold\">]</span>,\n",
       "<span style=\"color: #7fbf7f; text-decoration-color: #7fbf7f\">│   </span><span style=\"color: #808000; text-decoration-color: #808000\">scores</span>=<span style=\"font-weight: bold\">{</span>\n",
       "<span style=\"color: #7fbf7f; text-decoration-color: #7fbf7f\">│   │   </span><span style=\"color: #008000; text-decoration-color: #008000\">'llm-as-judge::base'</span>: <span style=\"color: #800080; text-decoration-color: #800080; font-weight: bold\">ScoringResult</span><span style=\"font-weight: bold\">(</span>\n",
       "<span style=\"color: #7fbf7f; text-decoration-color: #7fbf7f\">│   │   │   </span><span style=\"color: #808000; text-decoration-color: #808000\">aggregated_results</span>=<span style=\"font-weight: bold\">{}</span>,\n",
       "<span style=\"color: #7fbf7f; text-decoration-color: #7fbf7f\">│   │   │   </span><span style=\"color: #808000; text-decoration-color: #808000\">score_rows</span>=<span style=\"font-weight: bold\">[</span>\n",
       "<span style=\"color: #7fbf7f; text-decoration-color: #7fbf7f\">│   │   │   │   </span><span style=\"font-weight: bold\">{</span>\n",
       "<span style=\"color: #7fbf7f; text-decoration-color: #7fbf7f\">│   │   │   │   │   </span><span style=\"color: #008000; text-decoration-color: #008000\">'score'</span>: <span style=\"color: #008000; text-decoration-color: #008000\">'D'</span>,\n",
       "<span style=\"color: #7fbf7f; text-decoration-color: #7fbf7f\">│   │   │   │   │   </span><span style=\"color: #008000; text-decoration-color: #008000\">'judge_feedback'</span>: <span style=\"color: #008000; text-decoration-color: #008000\">\"Answer: D, Explanation: The GENERATED RESPONSE contains information about the IEEE Frank Rosenblatt Award, including the recipient's name, Michio Sugeno, but it also contains extraneous information such as the recipient's affiliation, the award's purpose, and other details that are not present in the EXPECTED RESPONSE.\"</span>\n",
       "<span style=\"color: #7fbf7f; text-decoration-color: #7fbf7f\">│   │   │   │   </span><span style=\"font-weight: bold\">}</span>,\n",
       "<span style=\"color: #7fbf7f; text-decoration-color: #7fbf7f\">│   │   │   │   </span><span style=\"font-weight: bold\">{</span>\n",
       "<span style=\"color: #7fbf7f; text-decoration-color: #7fbf7f\">│   │   │   │   │   </span><span style=\"color: #008000; text-decoration-color: #008000\">'score'</span>: <span style=\"color: #008000; text-decoration-color: #008000\">'C'</span>,\n",
       "<span style=\"color: #7fbf7f; text-decoration-color: #7fbf7f\">│   │   │   │   │   </span><span style=\"color: #008000; text-decoration-color: #008000\">'judge_feedback'</span>: <span style=\"color: #008000; text-decoration-color: #008000\">'Answer: C, Explanation: The GENERATED RESPONSE and EXPECTED RESPONSE contain the same factual information, with no differences in content.'</span>\n",
       "<span style=\"color: #7fbf7f; text-decoration-color: #7fbf7f\">│   │   │   │   </span><span style=\"font-weight: bold\">}</span>,\n",
       "<span style=\"color: #7fbf7f; text-decoration-color: #7fbf7f\">│   │   │   │   </span><span style=\"font-weight: bold\">{</span>\n",
       "<span style=\"color: #7fbf7f; text-decoration-color: #7fbf7f\">│   │   │   │   │   </span><span style=\"color: #008000; text-decoration-color: #008000\">'score'</span>: <span style=\"color: #008000; text-decoration-color: #008000\">'C'</span>,\n",
       "<span style=\"color: #7fbf7f; text-decoration-color: #7fbf7f\">│   │   │   │   │   </span><span style=\"color: #008000; text-decoration-color: #008000\">'judge_feedback'</span>: <span style=\"color: #008000; text-decoration-color: #008000\">'Answer: C, Explanation: The GENERATED RESPONSE and EXPECTED RESPONSE contain the same information, with no additional details or discrepancies.'</span>\n",
       "<span style=\"color: #7fbf7f; text-decoration-color: #7fbf7f\">│   │   │   │   </span><span style=\"font-weight: bold\">}</span>,\n",
       "<span style=\"color: #7fbf7f; text-decoration-color: #7fbf7f\">│   │   │   │   </span><span style=\"font-weight: bold\">{</span>\n",
       "<span style=\"color: #7fbf7f; text-decoration-color: #7fbf7f\">│   │   │   │   │   </span><span style=\"color: #008000; text-decoration-color: #008000\">'score'</span>: <span style=\"color: #008000; text-decoration-color: #008000\">'B'</span>,\n",
       "<span style=\"color: #7fbf7f; text-decoration-color: #7fbf7f\">│   │   │   │   │   </span><span style=\"color: #008000; text-decoration-color: #008000\">'judge_feedback'</span>: <span style=\"color: #008000; text-decoration-color: #008000\">'Answer: B, Explanation: The GENERATED RESPONSE is a superset of the EXPECTED RESPONSE and is fully consistent with it.'</span>\n",
       "<span style=\"color: #7fbf7f; text-decoration-color: #7fbf7f\">│   │   │   │   </span><span style=\"font-weight: bold\">}</span>,\n",
       "<span style=\"color: #7fbf7f; text-decoration-color: #7fbf7f\">│   │   │   │   </span><span style=\"font-weight: bold\">{</span>\n",
       "<span style=\"color: #7fbf7f; text-decoration-color: #7fbf7f\">│   │   │   │   │   </span><span style=\"color: #008000; text-decoration-color: #008000\">'score'</span>: <span style=\"color: #008000; text-decoration-color: #008000\">'D'</span>,\n",
       "<span style=\"color: #7fbf7f; text-decoration-color: #7fbf7f\">│   │   │   │   │   </span><span style=\"color: #008000; text-decoration-color: #008000\">'judge_feedback'</span>: <span style=\"color: #008000; text-decoration-color: #008000\">'Answer: D, Explanation: The GENERATED RESPONSE and EXPECTED RESPONSE contain different factual information. The GENERATED RESPONSE states that the favorite sculpture of Empress Elizabeth of Austria depicted scenes from Greek mythology and Homeric stories, while the EXPECTED RESPONSE incorrectly states that the favorite sculpture was made by poet Henrich Heine.'</span>\n",
       "<span style=\"color: #7fbf7f; text-decoration-color: #7fbf7f\">│   │   │   │   </span><span style=\"font-weight: bold\">}</span>\n",
       "<span style=\"color: #7fbf7f; text-decoration-color: #7fbf7f\">│   │   │   </span><span style=\"font-weight: bold\">]</span>\n",
       "<span style=\"color: #7fbf7f; text-decoration-color: #7fbf7f\">│   │   </span><span style=\"font-weight: bold\">)</span>\n",
       "<span style=\"color: #7fbf7f; text-decoration-color: #7fbf7f\">│   </span><span style=\"font-weight: bold\">}</span>\n",
       "<span style=\"font-weight: bold\">)</span>\n",
       "</pre>\n"
      ],
      "text/plain": [
       "\u001b[1;35mEvaluateResponse\u001b[0m\u001b[1m(\u001b[0m\n",
       "\u001b[2;32m│   \u001b[0m\u001b[33mgenerations\u001b[0m=\u001b[1m[\u001b[0m\n",
       "\u001b[2;32m│   │   \u001b[0m\u001b[1m{\u001b[0m\n",
       "\u001b[2;32m│   │   │   \u001b[0m\u001b[32m'generated_answer'\u001b[0m: \u001b[32m'\u001b[0m\u001b[32mcall_id\u001b[0m\u001b[32m=\\'chatcmpl-tool-14a5546ea7754594a8b842792c76cfe6\\' \u001b[0m\u001b[32mtool_name\u001b[0m\u001b[32m=\\'brave_search\\' \u001b[0m\u001b[32marguments\u001b[0m\u001b[32m=\\'\u001b[0m\u001b[32m{\u001b[0m\u001b[32m\"query\": \"IEEE Frank Rosenblatt Award 2010 recipient\", \"top_k\": \"\u001b[0m\u001b[32m[\u001b[0m\u001b[32m{\u001b[0m\u001b[32m\\\\\\\\\"title\\\\\\\\\": \\\\\\\\\"Michio Sugeno | IEEE Xplore Author Details\\\\\\\\\", \\\\\\\\\"url\\\\\\\\\": \\\\\\\\\"https://ieeexplore.ieee.org/author/37271220500\\\\\\\\\", \\\\\\\\\"content\\\\\\\\\": \\\\\\\\\"He is the first recipient of IEEE CIS Pioneer Award in Fuzzy Systems with Zadeh, in 2000. He was the recipient of the 2010 IEEE Frank Rosenblatt Award, and also the recipient of IEEE International Conference on Systems, Man, and Cybernetics 2017 Lotfi A. Zadeh Pioneer Award.\\\\\\\\\", \\\\\\\\\"score\\\\\\\\\": 0.8708723, \\\\\\\\\"raw_content\\\\\\\\\": null\u001b[0m\u001b[32m}\u001b[0m\u001b[32m, \u001b[0m\u001b[32m{\u001b[0m\u001b[32m\\\\\\\\\"title\\\\\\\\\": \\\\\\\\\"Non-Additive Measures: Theory and Applications | SpringerLink\\\\\\\\\", \\\\\\\\\"url\\\\\\\\\": \\\\\\\\\"https://link.springer.com/book/10.1007/978-3-319-03155-2\\\\\\\\\", \\\\\\\\\"content\\\\\\\\\": \\\\\\\\\"He is the first recipient of an IEEE Pioneer Award in Fuzzy Systems with Lotfi Zadeh in 2000 and he received the 2010 IEEE Frank Rosenblatt Award in July, 2010.\\\\\\\\\", \\\\\\\\\"score\\\\\\\\\": 0.85216236, \\\\\\\\\"raw_content\\\\\\\\\": null\u001b[0m\u001b[32m}\u001b[0m\u001b[32m, \u001b[0m\u001b[32m{\u001b[0m\u001b[32m\\\\\\\\\"title\\\\\\\\\": \\\\\\\\\"IEEE Frank Rosenblatt Award - Wikipedia\\\\\\\\\", \\\\\\\\\"url\\\\\\\\\": \\\\\\\\\"https://en.wikipedia.org/wiki/IEEE_Frank_Rosenblatt_Award\\\\\\\\\", \\\\\\\\\"content\\\\\\\\\": \\\\\\\\\"IEEE Frank Rosenblatt Award - Wikipedia IEEE Frank Rosenblatt Award page at IEEE Computational Intelligence Society List of IEEE Frank Rosenblatt Award recipients IEEE awards Biomedical Engineering Award Electromagnetics Award Internet Award Photonics Award | Other IEEE-level awards |  | Society-level awards |  Seymour Cray Computer Engineering Award \u001b[0m\u001b[32m(\u001b[0m\u001b[32mComputer Society\u001b[0m\u001b[32m)\u001b[0m\u001b[32m Computer Entrepreneur Award \u001b[0m\u001b[32m(\u001b[0m\u001b[32mComputer Society\u001b[0m\u001b[32m)\u001b[0m\u001b[32m Computer Pioneer Award \u001b[0m\u001b[32m(\u001b[0m\u001b[32mComputer Society\u001b[0m\u001b[32m)\u001b[0m\u001b[32m Mills Award \u001b[0m\u001b[32m(\u001b[0m\u001b[32mComputer Society\u001b[0m\u001b[32m)\u001b[0m\u001b[32m This science awards article is a stub. IEEE Frank Rosenblatt Award page at IEEE Computational Intelligence Society List of IEEE Frank Rosenblatt Award recipients IEEE awards Biomedical Engineering Award Electromagnetics Award Internet Award Photonics Award | Other IEEE-level awards |  | Society-level awards |  Seymour Cray Computer Engineering Award \u001b[0m\u001b[32m(\u001b[0m\u001b[32mComputer Society\u001b[0m\u001b[32m)\u001b[0m\u001b[32m Computer Entrepreneur Award \u001b[0m\u001b[32m(\u001b[0m\u001b[32mComputer Society\u001b[0m\u001b[32m)\u001b[0m\u001b[32m Computer Pioneer Award \u001b[0m\u001b[32m(\u001b[0m\u001b[32mComputer Society\u001b[0m\u001b[32m)\u001b[0m\u001b[32m Mills Award \u001b[0m\u001b[32m(\u001b[0m\u001b[32mComputer Society\u001b[0m\u001b[32m)\u001b[0m\u001b[32m This science awards article is a stub.\\\\\\\\\", \\\\\\\\\"score\\\\\\\\\": 0.5565207, \\\\\\\\\"raw_content\\\\\\\\\": null\u001b[0m\u001b[32m}\u001b[0m\u001b[32m, \u001b[0m\u001b[32m{\u001b[0m\u001b[32m\\\\\\\\\"title\\\\\\\\\": \\\\\\\\\"Current IEEE Corporate Award Recipients | IEEE Awards\\\\\\\\\", \\\\\\\\\"url\\\\\\\\\": \\\\\\\\\"https://corporate-awards.ieee.org/recipients/current-recipients/\\\\\\\\\", \\\\\\\\\"content\\\\\\\\\": \\\\\\\\\"IEEE Awards IEEE Medals IEEE Technical Field Awards IEEE President\\\\\\\\\\\\\\\\u2019s Award IEEE Awards Videos IEEE Technical Field Awards IEEE Medals IEEE Technical Field Awards 2025 IEEE Medal Recipients 2025 IEEE Technical Field Awards 2025 IEEE Medal Recipients IEEE Corporate Innovation Award \\\\\\\\\\\\\\\\u201cFor sustained leadership, global service, and outstanding contributions enabling new opportunities for IEEE and its members.\\\\\\\\\\\\\\\\u201d 2025 IEEE Technical Field Awards IEEE Control Systems Award IEEE Electromagnetics Award IEEE Internet Award IEEE Photonics Award \\\\\\\\\\\\\\\\u201cFor leadership in the development and advancement of global IEEE 802 network standards.\\\\\\\\\\\\\\\\u201d IEEE Transportation Technologies Award About IEEE Awards Board Donate to IEEE Awards IEEE Awards Overview IEEE Corporate Awards Program Collabratec Volunteer for IEEE Awards\\\\\\\\\", \\\\\\\\\"score\\\\\\\\\": 0.16170406, \\\\\\\\\"raw_content\\\\\\\\\": null\u001b[0m\u001b[32m}\u001b[0m\u001b[32m, \u001b[0m\u001b[32m{\u001b[0m\u001b[32m\\\\\\\\\"title\\\\\\\\\": \\\\\\\\\"PDF\\\\\\\\\", \\\\\\\\\"url\\\\\\\\\": \\\\\\\\\"https://corporate-awards.ieee.org/wp-content/uploads/rosenblatt-rl.pdf\\\\\\\\\", \\\\\\\\\"content\\\\\\\\\": \\\\\\\\\"2010 - MICHIO SUGENO Faculty of Culture and Information Science, Doshisha University Kyoto, Japan \\\\\\\\\\\\\\\\\\\\\\\\\"For contributions to development and applications of the theory of fuzzy sets.\\\\\\\\\\\\\\\\\\\\\\\\\"\\\\\\\\\", \\\\\\\\\"score\\\\\\\\\": 0.11364864, \\\\\\\\\"raw_content\\\\\\\\\": null\u001b[0m\u001b[32m}\u001b[0m\u001b[32m]\u001b[0m\u001b[32m\\''\u001b[0m\n",
       "\u001b[2;32m│   │   \u001b[0m\u001b[1m}\u001b[0m,\n",
       "\u001b[2;32m│   │   \u001b[0m\u001b[1m{\u001b[0m\n",
       "\u001b[2;32m│   │   │   \u001b[0m\u001b[32m'generated_answer'\u001b[0m: \u001b[32m\"The recipient of the Oceanography Society's Jerlov Award in 2018 was Annick Bricaud.\"\u001b[0m\n",
       "\u001b[2;32m│   │   \u001b[0m\u001b[1m}\u001b[0m,\n",
       "\u001b[2;32m│   │   \u001b[0m\u001b[1m{\u001b[0m\n",
       "\u001b[2;32m│   │   │   \u001b[0m\u001b[32m'generated_answer'\u001b[0m: \u001b[32m\"The name of the women's liberal arts college in Cambridge, Massachusetts is Radcliffe College.\"\u001b[0m\n",
       "\u001b[2;32m│   │   \u001b[0m\u001b[1m}\u001b[0m,\n",
       "\u001b[2;32m│   │   \u001b[0m\u001b[1m{\u001b[0m\u001b[32m'generated_answer'\u001b[0m: \u001b[32m'The Leipzig 1877 tournament was organized in honor of Adolf Anderssen.'\u001b[0m\u001b[1m}\u001b[0m,\n",
       "\u001b[2;32m│   │   \u001b[0m\u001b[1m{\u001b[0m\n",
       "\u001b[2;32m│   │   │   \u001b[0m\u001b[32m'generated_answer'\u001b[0m: \u001b[32m'The favorite sculpture of Empress Elizabeth of Austria, which was made for her villa Achilleion at Corfu, depicted scenes from Greek mythology and Homeric stories. The exact sculpture is not specified in the search results provided.'\u001b[0m\n",
       "\u001b[2;32m│   │   \u001b[0m\u001b[1m}\u001b[0m\n",
       "\u001b[2;32m│   \u001b[0m\u001b[1m]\u001b[0m,\n",
       "\u001b[2;32m│   \u001b[0m\u001b[33mscores\u001b[0m=\u001b[1m{\u001b[0m\n",
       "\u001b[2;32m│   │   \u001b[0m\u001b[32m'llm-as-judge::base'\u001b[0m: \u001b[1;35mScoringResult\u001b[0m\u001b[1m(\u001b[0m\n",
       "\u001b[2;32m│   │   │   \u001b[0m\u001b[33maggregated_results\u001b[0m=\u001b[1m{\u001b[0m\u001b[1m}\u001b[0m,\n",
       "\u001b[2;32m│   │   │   \u001b[0m\u001b[33mscore_rows\u001b[0m=\u001b[1m[\u001b[0m\n",
       "\u001b[2;32m│   │   │   │   \u001b[0m\u001b[1m{\u001b[0m\n",
       "\u001b[2;32m│   │   │   │   │   \u001b[0m\u001b[32m'score'\u001b[0m: \u001b[32m'D'\u001b[0m,\n",
       "\u001b[2;32m│   │   │   │   │   \u001b[0m\u001b[32m'judge_feedback'\u001b[0m: \u001b[32m\"Answer: D, Explanation: The GENERATED RESPONSE contains information about the IEEE Frank Rosenblatt Award, including the recipient's name, Michio Sugeno, but it also contains extraneous information such as the recipient's affiliation, the award's purpose, and other details that are not present in the EXPECTED RESPONSE.\"\u001b[0m\n",
       "\u001b[2;32m│   │   │   │   \u001b[0m\u001b[1m}\u001b[0m,\n",
       "\u001b[2;32m│   │   │   │   \u001b[0m\u001b[1m{\u001b[0m\n",
       "\u001b[2;32m│   │   │   │   │   \u001b[0m\u001b[32m'score'\u001b[0m: \u001b[32m'C'\u001b[0m,\n",
       "\u001b[2;32m│   │   │   │   │   \u001b[0m\u001b[32m'judge_feedback'\u001b[0m: \u001b[32m'Answer: C, Explanation: The GENERATED RESPONSE and EXPECTED RESPONSE contain the same factual information, with no differences in content.'\u001b[0m\n",
       "\u001b[2;32m│   │   │   │   \u001b[0m\u001b[1m}\u001b[0m,\n",
       "\u001b[2;32m│   │   │   │   \u001b[0m\u001b[1m{\u001b[0m\n",
       "\u001b[2;32m│   │   │   │   │   \u001b[0m\u001b[32m'score'\u001b[0m: \u001b[32m'C'\u001b[0m,\n",
       "\u001b[2;32m│   │   │   │   │   \u001b[0m\u001b[32m'judge_feedback'\u001b[0m: \u001b[32m'Answer: C, Explanation: The GENERATED RESPONSE and EXPECTED RESPONSE contain the same information, with no additional details or discrepancies.'\u001b[0m\n",
       "\u001b[2;32m│   │   │   │   \u001b[0m\u001b[1m}\u001b[0m,\n",
       "\u001b[2;32m│   │   │   │   \u001b[0m\u001b[1m{\u001b[0m\n",
       "\u001b[2;32m│   │   │   │   │   \u001b[0m\u001b[32m'score'\u001b[0m: \u001b[32m'B'\u001b[0m,\n",
       "\u001b[2;32m│   │   │   │   │   \u001b[0m\u001b[32m'judge_feedback'\u001b[0m: \u001b[32m'Answer: B, Explanation: The GENERATED RESPONSE is a superset of the EXPECTED RESPONSE and is fully consistent with it.'\u001b[0m\n",
       "\u001b[2;32m│   │   │   │   \u001b[0m\u001b[1m}\u001b[0m,\n",
       "\u001b[2;32m│   │   │   │   \u001b[0m\u001b[1m{\u001b[0m\n",
       "\u001b[2;32m│   │   │   │   │   \u001b[0m\u001b[32m'score'\u001b[0m: \u001b[32m'D'\u001b[0m,\n",
       "\u001b[2;32m│   │   │   │   │   \u001b[0m\u001b[32m'judge_feedback'\u001b[0m: \u001b[32m'Answer: D, Explanation: The GENERATED RESPONSE and EXPECTED RESPONSE contain different factual information. The GENERATED RESPONSE states that the favorite sculpture of Empress Elizabeth of Austria depicted scenes from Greek mythology and Homeric stories, while the EXPECTED RESPONSE incorrectly states that the favorite sculpture was made by poet Henrich Heine.'\u001b[0m\n",
       "\u001b[2;32m│   │   │   │   \u001b[0m\u001b[1m}\u001b[0m\n",
       "\u001b[2;32m│   │   │   \u001b[0m\u001b[1m]\u001b[0m\n",
       "\u001b[2;32m│   │   \u001b[0m\u001b[1m)\u001b[0m\n",
       "\u001b[2;32m│   \u001b[0m\u001b[1m}\u001b[0m\n",
       "\u001b[1m)\u001b[0m\n"
      ]
     },
     "metadata": {},
     "output_type": "display_data"
    }
   ],
   "source": [
    "agent_config = {\n",
    "    \"model\": \"llama32\",\n",
    "    \"instructions\": \"You are a helpful assistant that have access to tool to search the web. \",\n",
    "    \"sampling_params\": {\n",
    "        \"strategy\": {\n",
    "            \"type\": \"top_p\",\n",
    "            \"temperature\": 0.5,\n",
    "            \"top_p\": 0.9,\n",
    "        }\n",
    "    },\n",
    "    \"toolgroups\": [\n",
    "        \"builtin::websearch\",\n",
    "    ],\n",
    "    \"tool_choice\": \"auto\",\n",
    "    \"tool_prompt_format\": \"json\",\n",
    "    \"input_shields\": [],\n",
    "    \"output_shields\": [],\n",
    "    \"enable_session_persistence\": False,\n",
    "}\n",
    "\n",
    "response = client.eval.evaluate_rows(\n",
    "    benchmark_id=\"meta-reference::simpleqa\",\n",
    "    input_rows=eval_rows.data,\n",
    "    scoring_functions=[\"llm-as-judge::base\"],\n",
    "    benchmark_config={\n",
    "        \"eval_candidate\": {\n",
    "            \"type\": \"agent\",\n",
    "            \"config\": agent_config,\n",
    "        },\n",
    "    },\n",
    ")\n",
    "pprint(response)"
   ]
  }
 ],
 "metadata": {
  "kernelspec": {
   "display_name": "Python 3.11",
   "language": "python",
   "name": "python3"
  }
 },
 "nbformat": 4,
 "nbformat_minor": 5
}
