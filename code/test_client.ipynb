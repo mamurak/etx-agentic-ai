{
 "cells": [
  {
   "cell_type": "code",
   "execution_count": 1,
   "id": "3364530e-8a01-4edc-a57b-c030e5509c40",
   "metadata": {},
   "outputs": [],
   "source": [
    "from requests import get, post"
   ]
  },
  {
   "cell_type": "code",
   "execution_count": 9,
   "id": "e487e1f5-a176-4f64-a487-dcba49374a4f",
   "metadata": {},
   "outputs": [],
   "source": [
    "url = 'http://localhost:8000/report-failure'\n",
    "\n",
    "payload = {\n",
    "    'pod_name': 'my-pod',\n",
    "    'container_name': 'my-container',\n",
    "    'namespace': 'my-namespace',\n",
    "}"
   ]
  },
  {
   "cell_type": "code",
   "execution_count": 10,
   "id": "405c44eb-60ed-4c98-8bbc-890476b79b57",
   "metadata": {},
   "outputs": [
    {
     "data": {
      "text/plain": [
       "{'pod_name': 'my-pod',\n",
       " 'container_name': 'my-container',\n",
       " 'namespace': 'my-namespace'}"
      ]
     },
     "execution_count": 10,
     "metadata": {},
     "output_type": "execute_result"
    }
   ],
   "source": [
    "post(url, json=payload).json()"
   ]
  },
  {
   "cell_type": "code",
   "execution_count": null,
   "id": "66d0c305-88ce-4fd1-b87f-3b315f39f225",
   "metadata": {},
   "outputs": [],
   "source": []
  }
 ],
 "metadata": {
  "kernelspec": {
   "display_name": "Python 3.11",
   "language": "python",
   "name": "python3"
  },
  "language_info": {
   "codemirror_mode": {
    "name": "ipython",
    "version": 3
   },
   "file_extension": ".py",
   "mimetype": "text/x-python",
   "name": "python",
   "nbconvert_exporter": "python",
   "pygments_lexer": "ipython3",
   "version": "3.11.9"
  }
 },
 "nbformat": 4,
 "nbformat_minor": 5
}
