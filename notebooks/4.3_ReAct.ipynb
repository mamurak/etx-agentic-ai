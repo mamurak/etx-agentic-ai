{
 "cells": [
  {
   "cell_type": "markdown",
   "metadata": {},
   "source": [
    "## Notebook 4.3: ReAct"
   ]
  },
  {
   "cell_type": "code",
   "execution_count": null,
   "metadata": {},
   "outputs": [],
   "source": [
    "from llama_stack_client.lib.agents.event_logger import EventLogger\n",
    "from llama_stack_client.lib.agents.react.agent import ReActAgent\n",
    "from llama_stack_client.lib.agents.react.tool_parser import ReActOutput\n",
    "\n",
    "from src.client_tools import get_pod_log\n",
    "from src import lab\n",
    "from src.lab import get_llama_stack_client, run_session"
   ]
  },
  {
   "cell_type": "markdown",
   "metadata": {},
   "source": [
    "Next, we will initialize our environment as described in detail in our [\"Getting Started\" notebook](./Level1_getting_started_with_Llama_Stack.ipynb). Please refer to it for additional explanations."
   ]
  },
  {
   "cell_type": "code",
   "execution_count": null,
   "metadata": {},
   "outputs": [],
   "source": [
    "client = get_llama_stack_client()"
   ]
  },
  {
   "cell_type": "markdown",
   "metadata": {},
   "source": [
    "### ReAct Agent with websearch tool and client tool\n",
    "\n",
    "This section demonstrates the ReAct (Reasoning and Acting) framework in action.\n",
    "\n",
    "Here is a walkthrough of how the ReAct agent will tackle this same \"weather near me\" problem:\n",
    "\n",
    "When asked \"Are there any weather-related risks in my area that could disrupt network connectivity or system availability?\", the agent will:\n",
    "\n",
    "1. **Reason** that it needs to get location information first.\n",
    "2. **Act** by calling the `get_location` client tool.\n",
    "3. **Observe** the location result.\n",
    "4. **Reason** that it now needs to search for weather in that location.\n",
    "5. **Act** by calling the `websearch` tool with observed location.\n",
    "6. **Observe** and processes the search results into a final answer. \n",
    "\n",
    "Unlike prompt chaining which follows fixed steps, ReAct dynamically breaks down tasks and adapts its approach based on the results of each step. This makes it more flexible and capable of handling complex, real-world queries effectively.\n",
    "\n",
    "We are going to switch LLM models here from the LLM llama32-3b model to the more powerful reasoning model deepseek-r1-0528-qwen3-8b-bnb-4bit that is able to more accurately reason about the tools it will use. Resoning models output their \\<thought\\> process first."
   ]
  },
  {
   "cell_type": "code",
   "execution_count": null,
   "metadata": {},
   "outputs": [],
   "source": [
    "agent = ReActAgent(\n",
    "    client=client,\n",
    "    model=lab.model_id,\n",
    "    tools=[get_pod_log, \"builtin::websearch\"],\n",
    "    response_format={\n",
    "        \"type\": \"json_schema\",\n",
    "        \"json_schema\": ReActOutput.model_json_schema(),\n",
    "    },\n",
    "    sampling_params=lab.sampling_params,\n",
    ")\n",
    "\n",
    "pod_name = 'java-app-build-iyyx5z-build-pod'\n",
    "namespace = 'demo-application'\n",
    "container_name = 'step-s2i-build'\n",
    "\n",
    "user_prompts = [\n",
    "    f\"There's a pod {pod_name} in namespace {namespace} with a container {container_name}\"\n",
    "    f\" that's been failing. Find out why it's been failing and provide a troubleshooting\"\n",
    "    f\" recommendation based on public knowledge.\"\n",
    "]\n",
    "run_session(agent, 'react-session', user_prompts)"
   ]
  },
  {
   "cell_type": "markdown",
   "metadata": {},
   "source": [
    "## Key Takeaways\n",
    "- This notebook demonstrated how to build more capable agents using Prompt Chaining and the ReAct framework.\n",
    "- It showed how agents can maintain context across multiple steps and perform structured, multi-step reasoning.\n",
    "- It highlights how ReAct enables dynamic tool selection and adaptive decision-making based on intermediate results.\n",
    "- These techniques enhance agent autonomy and make them more suitable for complex operational tasks.\n",
    "\n",
    "For further extensions, continue exploring in the next notebook: [Agents and MCP](5_mcp.ipynb)."
   ]
  },
  {
   "cell_type": "code",
   "execution_count": null,
   "metadata": {},
   "outputs": [],
   "source": []
  }
 ],
 "metadata": {
  "kernelspec": {
   "display_name": "Python 3.11",
   "language": "python",
   "name": "python3"
  },
  "language_info": {
   "codemirror_mode": {
    "name": "ipython",
    "version": 3
   },
   "file_extension": ".py",
   "mimetype": "text/x-python",
   "name": "python",
   "nbconvert_exporter": "python",
   "pygments_lexer": "ipython3",
   "version": "3.11.9"
  }
 },
 "nbformat": 4,
 "nbformat_minor": 4
}
