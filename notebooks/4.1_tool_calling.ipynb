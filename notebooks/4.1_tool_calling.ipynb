{
 "cells": [
  {
   "cell_type": "markdown",
   "metadata": {},
   "source": [
    "# Notebook 4.1: Simple Agent with Tool Calling\n",
    "\n",
    "This notebook will introduce how to build a simple agent using Llama Stack's agent framework, enhanced with a single tool: the builtin web search tool. This capability will  allow the agent to retrieve up to date external information beyond the limits of its training data. This is an important step toward developing a more capable and autonomous agent. Make sure you have setup your environment OK in [Level 1](Level1_getting_started_with_Llama_Stack.ipynb)\n",
    "\n",
    "## Overview\n",
    "\n",
    "This tutorial will walk you through how to build your own AI agent who can search the web:\n",
    "\n",
    "1. Configure a Llama Stack agent.\n",
    "2. Enhance the agent by providing it access to a specific tool\n",
    "2. Interact with the agent and tests its use of the web search tool.\n",
    "\n",
    "## Prerequisites\n",
    "\n",
    "Before starting this notebook, ensure that you have:\n",
    "- Followed the instructions in the [Setup Guide](./3_Llama_Stack.ipynb) notebook. "
   ]
  },
  {
   "cell_type": "markdown",
   "metadata": {},
   "source": [
    "## 1. Setting Up this Notebook\n",
    "We will start with a few imports."
   ]
  },
  {
   "cell_type": "code",
   "execution_count": 1,
   "metadata": {},
   "outputs": [
    {
     "name": "stdout",
     "output_type": "stream",
     "text": [
      "loaded environment variables\n"
     ]
    }
   ],
   "source": [
    "from llama_stack_client import Agent\n",
    "from llama_stack_client.lib.agents.event_logger import EventLogger\n",
    "from termcolor import cprint\n",
    "\n",
    "from src.client_tools import get_pod_log\n",
    "from src import lab\n",
    "from src.lab import get_llama_stack_client"
   ]
  },
  {
   "cell_type": "markdown",
   "metadata": {},
   "source": [
    "## 2. Using a built-in tool"
   ]
  },
  {
   "cell_type": "markdown",
   "metadata": {},
   "source": [
    "Next, we will initialize our environment as described in detail in our [\"Getting Started\" notebook](./Level0_getting_started_with_Llama_Stack.ipynb). Please refer to it for additional explanations."
   ]
  },
  {
   "cell_type": "code",
   "execution_count": 3,
   "metadata": {},
   "outputs": [
    {
     "name": "stdout",
     "output_type": "stream",
     "text": [
      "Instantianted Llama Stack client\n",
      "\n",
      "==================================================\n",
      "\u001b[34mProcessing user query: What is the latest OpenShift version?\u001b[0m\n",
      "==================================================\n",
      "\u001b[33minference> \u001b[0m\u001b[33m\u001b[0m\u001b[33m<\u001b[0m\u001b[33mtool\u001b[0m\u001b[33m_\u001b[0m\u001b[33mcall\u001b[0m\u001b[33m>\u001b[0m\u001b[97m\u001b[0m\n",
      "\u001b[32mtool_execution> Tool:brave_search Args:{'query': 'latest OpenShift version'}\u001b[0m\n",
      "\u001b[32mtool_execution> Tool:brave_search Response:{\"query\": \"latest OpenShift version\", \"top_k\": [{\"url\": \"https://learn.microsoft.com/en-us/azure/openshift/azure-redhat-openshift-release-notes\", \"title\": \"What's new with Azure Red Hat OpenShift? - Learn Microsoft\", \"content\": \"Version 4.17 - June 2025 \\u00b7 OpenShift version 4.17 is now available as an Azure Red Hat OpenShift install option. For more information, see OpenShift Container\", \"score\": 0.8051581, \"raw_content\": null}, {\"url\": \"https://www.redhat.com/en/whats-new-red-hat-openshift\", \"title\": \"What's new in Red Hat OpenShift\", \"content\": \"What's New in OpenShift 4.19 2 Physical Virtual Private cloud Public cloud Edge Linux host operating system Kubernetes Run Containers and Virtual Machines\", \"score\": 0.6824261, \"raw_content\": null}, {\"url\": \"https://cloud.ibm.com/docs/openshift?topic=openshift-openshift_versions\", \"title\": \"Red Hat OpenShift on IBM Cloud version information\", \"content\": \"Release date: 20 November 2024 \\u00b7 End of support: 26 August 2026\\u2020 \\u00b7 Operating systems: RHEL_9_64 , Red Hat CoreOS ( RHCOS ), RHEL 8 ( REDHAT_8_64 ) \\u00b7 Version\", \"score\": 0.65252984, \"raw_content\": null}, {\"url\": \"https://access.redhat.com/support/policy/updates/openshift\", \"title\": \"OpenShift Container Platform Life Cycle - Red Hat Customer Portal\", \"content\": \"Red Hat OpenShift container platform v4 provides a time-delineated, phased life cycle, where in at least 4 minor versions can be supported at any time.\", \"score\": 0.58465123, \"raw_content\": null}, {\"url\": \"https://endoflife.date/red-hat-openshift\", \"title\": \"Red Hat OpenShift - endoflife.date\", \"content\": \"Check end-of-life, release policy and support schedule for Red Hat OpenShift ... Last updated on 13 July 2025. Red Hat OpenShift logo.\", \"score\": 0.4902606, \"raw_content\": null}]}\u001b[0m\n",
      "\u001b[33minference> \u001b[0m\u001b[33m\u001b[0m\u001b[33mThe\u001b[0m\u001b[33m latest\u001b[0m\u001b[33m version\u001b[0m\u001b[33m of\u001b[0m\u001b[33m Open\u001b[0m\u001b[33mShift\u001b[0m\u001b[33m as\u001b[0m\u001b[33m of\u001b[0m\u001b[33m now\u001b[0m\u001b[33m is\u001b[0m\u001b[33m Open\u001b[0m\u001b[33mShift\u001b[0m\u001b[33m \u001b[0m\u001b[33m4\u001b[0m\u001b[33m.\u001b[0m\u001b[33m1\u001b[0m\u001b[33m9\u001b[0m\u001b[33m,\u001b[0m\u001b[33m which\u001b[0m\u001b[33m was\u001b[0m\u001b[33m released\u001b[0m\u001b[33m on\u001b[0m\u001b[33m \u001b[0m\u001b[33m2\u001b[0m\u001b[33m0\u001b[0m\u001b[33m November\u001b[0m\u001b[33m \u001b[0m\u001b[33m2\u001b[0m\u001b[33m0\u001b[0m\u001b[33m2\u001b[0m\u001b[33m4\u001b[0m\u001b[33m.\u001b[0m\u001b[33m It\u001b[0m\u001b[33m is\u001b[0m\u001b[33m supported\u001b[0m\u001b[33m until\u001b[0m\u001b[33m \u001b[0m\u001b[33m2\u001b[0m\u001b[33m6\u001b[0m\u001b[33m August\u001b[0m\u001b[33m \u001b[0m\u001b[33m2\u001b[0m\u001b[33m0\u001b[0m\u001b[33m2\u001b[0m\u001b[33m6\u001b[0m\u001b[33m.\u001b[0m\u001b[33m For\u001b[0m\u001b[33m more\u001b[0m\u001b[33m detailed\u001b[0m\u001b[33m information\u001b[0m\u001b[33m,\u001b[0m\u001b[33m you\u001b[0m\u001b[33m can\u001b[0m\u001b[33m refer\u001b[0m\u001b[33m to\u001b[0m\u001b[33m the\u001b[0m\u001b[33m following\u001b[0m\u001b[33m sources\u001b[0m\u001b[33m:\u001b[0m\u001b[33m\n",
      "\u001b[0m\u001b[33m\n",
      "\u001b[0m\u001b[33m1\u001b[0m\u001b[33m.\u001b[0m\u001b[33m [\u001b[0m\u001b[33mWhat\u001b[0m\u001b[33m's\u001b[0m\u001b[33m new\u001b[0m\u001b[33m with\u001b[0m\u001b[33m Azure\u001b[0m\u001b[33m Red\u001b[0m\u001b[33m Hat\u001b[0m\u001b[33m Open\u001b[0m\u001b[33mShift\u001b[0m\u001b[33m?\u001b[0m\u001b[33m -\u001b[0m\u001b[33m Learn\u001b[0m\u001b[33m Microsoft\u001b[0m\u001b[33m](\u001b[0m\u001b[33mhttps\u001b[0m\u001b[33m://\u001b[0m\u001b[33mlearn\u001b[0m\u001b[33m.\u001b[0m\u001b[33mmicrosoft\u001b[0m\u001b[33m.\u001b[0m\u001b[33mcom\u001b[0m\u001b[33m/\u001b[0m\u001b[33men\u001b[0m\u001b[33m-\u001b[0m\u001b[33mus\u001b[0m\u001b[33m/\u001b[0m\u001b[33mazure\u001b[0m\u001b[33m/\u001b[0m\u001b[33mopenshift\u001b[0m\u001b[33m/\u001b[0m\u001b[33mazure\u001b[0m\u001b[33m-\u001b[0m\u001b[33mredhat\u001b[0m\u001b[33m-\u001b[0m\u001b[33mopenshift\u001b[0m\u001b[33m-\u001b[0m\u001b[33mrelease\u001b[0m\u001b[33m-\u001b[0m\u001b[33mnotes\u001b[0m\u001b[33m)\u001b[0m\u001b[33m\n",
      "\u001b[0m\u001b[33m2\u001b[0m\u001b[33m.\u001b[0m\u001b[33m [\u001b[0m\u001b[33mWhat\u001b[0m\u001b[33m's\u001b[0m\u001b[33m New\u001b[0m\u001b[33m in\u001b[0m\u001b[33m Open\u001b[0m\u001b[33mShift\u001b[0m\u001b[33m \u001b[0m\u001b[33m4\u001b[0m\u001b[33m.\u001b[0m\u001b[33m1\u001b[0m\u001b[33m9\u001b[0m\u001b[33m -\u001b[0m\u001b[33m IBM\u001b[0m\u001b[33m Cloud\u001b[0m\u001b[33m](\u001b[0m\u001b[33mhttps\u001b[0m\u001b[33m://\u001b[0m\u001b[33mcloud\u001b[0m\u001b[33m.\u001b[0m\u001b[33mibm\u001b[0m\u001b[33m.\u001b[0m\u001b[33mcom\u001b[0m\u001b[33m/\u001b[0m\u001b[33mdocs\u001b[0m\u001b[33m/\u001b[0m\u001b[33mopenshift\u001b[0m\u001b[33m?\u001b[0m\u001b[33mtopic\u001b[0m\u001b[33m=\u001b[0m\u001b[33mopenshift\u001b[0m\u001b[33m-\u001b[0m\u001b[33mopenshift\u001b[0m\u001b[33m_\u001b[0m\u001b[33mversions\u001b[0m\u001b[33m)\u001b[0m\u001b[33m\n",
      "\u001b[0m\u001b[33m3\u001b[0m\u001b[33m.\u001b[0m\u001b[33m [\u001b[0m\u001b[33mOpen\u001b[0m\u001b[33mShift\u001b[0m\u001b[33m Container\u001b[0m\u001b[33m Platform\u001b[0m\u001b[33m Life\u001b[0m\u001b[33m Cycle\u001b[0m\u001b[33m -\u001b[0m\u001b[33m Red\u001b[0m\u001b[33m Hat\u001b[0m\u001b[33m Customer\u001b[0m\u001b[33m Portal\u001b[0m\u001b[33m](\u001b[0m\u001b[33mhttps\u001b[0m\u001b[33m://\u001b[0m\u001b[33maccess\u001b[0m\u001b[33m.\u001b[0m\u001b[33mredhat\u001b[0m\u001b[33m.\u001b[0m\u001b[33mcom\u001b[0m\u001b[33m/\u001b[0m\u001b[33msupport\u001b[0m\u001b[33m/\u001b[0m\u001b[33mpolicy\u001b[0m\u001b[33m/\u001b[0m\u001b[33mupdates\u001b[0m\u001b[33m/\u001b[0m\u001b[33mopenshift\u001b[0m\u001b[33m)\u001b[0m\u001b[33m\n",
      "\u001b[0m\u001b[33m4\u001b[0m\u001b[33m.\u001b[0m\u001b[33m [\u001b[0m\u001b[33mRed\u001b[0m\u001b[33m Hat\u001b[0m\u001b[33m Open\u001b[0m\u001b[33mShift\u001b[0m\u001b[33m -\u001b[0m\u001b[33m end\u001b[0m\u001b[33mof\u001b[0m\u001b[33mlife\u001b[0m\u001b[33m.\u001b[0m\u001b[33mdate\u001b[0m\u001b[33m](\u001b[0m\u001b[33mhttps\u001b[0m\u001b[33m://\u001b[0m\u001b[33mend\u001b[0m\u001b[33mof\u001b[0m\u001b[33mlife\u001b[0m\u001b[33m.\u001b[0m\u001b[33mdate\u001b[0m\u001b[33m/\u001b[0m\u001b[33mred\u001b[0m\u001b[33m-\u001b[0m\u001b[33mhat\u001b[0m\u001b[33m-\u001b[0m\u001b[33mopenshift\u001b[0m\u001b[33m)\u001b[0m\u001b[33m\n",
      "\u001b[0m\u001b[33m\n",
      "\u001b[0m\u001b[33mThese\u001b[0m\u001b[33m resources\u001b[0m\u001b[33m provide\u001b[0m\u001b[33m details\u001b[0m\u001b[33m about\u001b[0m\u001b[33m the\u001b[0m\u001b[33m supported\u001b[0m\u001b[33m operating\u001b[0m\u001b[33m systems\u001b[0m\u001b[33m,\u001b[0m\u001b[33m release\u001b[0m\u001b[33m dates\u001b[0m\u001b[33m,\u001b[0m\u001b[33m and\u001b[0m\u001b[33m end\u001b[0m\u001b[33m-\u001b[0m\u001b[33mof\u001b[0m\u001b[33m-\u001b[0m\u001b[33mlife\u001b[0m\u001b[33m policies\u001b[0m\u001b[33m for\u001b[0m\u001b[33m Open\u001b[0m\u001b[33mShift\u001b[0m\u001b[33m \u001b[0m\u001b[33m4\u001b[0m\u001b[33m.\u001b[0m\u001b[33m1\u001b[0m\u001b[33m9\u001b[0m\u001b[33m.\u001b[0m\u001b[97m\u001b[0m\n",
      "\u001b[30m\u001b[0m"
     ]
    }
   ],
   "source": [
    "instructions = \"\"\"\n",
    "    You are a helpful assistant. \n",
    "    When a user asks a question, you MUST use the websearch tool.\n",
    "\"\"\" \n",
    "\n",
    "client = get_llama_stack_client()\n",
    "agent = Agent(\n",
    "    client, \n",
    "    model=lab.model_id,\n",
    "    instructions=instructions,\n",
    "    tools=['builtin::websearch'],\n",
    "    sampling_params=lab.sampling_params\n",
    ")\n",
    "\n",
    "\n",
    "user_prompts = [\"What is the latest OpenShift version?\"]\n",
    "session_id = agent.create_session(\"websearch-test-session\")\n",
    "for prompt in user_prompts:\n",
    "    print(\"\\n\"+\"=\"*50)\n",
    "    cprint(f\"Processing user query: {prompt}\", \"blue\")\n",
    "    print(\"=\"*50)\n",
    "    response = agent.create_turn(\n",
    "        messages=[\n",
    "            {\n",
    "                \"role\": \"user\",\n",
    "                \"content\": prompt,\n",
    "            }\n",
    "        ],\n",
    "        session_id=session_id,\n",
    "        stream='True'\n",
    "    )\n",
    "\n",
    "    for log in EventLogger().log(response):\n",
    "        log.print()"
   ]
  },
  {
   "cell_type": "markdown",
   "metadata": {},
   "source": [
    "## 3. Using a custom tool function"
   ]
  },
  {
   "cell_type": "code",
   "execution_count": 4,
   "metadata": {},
   "outputs": [],
   "source": [
    "from pprint import pprint\n",
    "\n",
    "from kubernetes.client.api_client import ApiClient\n",
    "from kubernetes.client.rest import ApiException\n",
    "from kubernetes.client import CoreV1Api\n",
    "from kubernetes.config import load_incluster_config\n",
    "from llama_stack_client.lib.agents.client_tool import client_tool\n",
    "\n",
    "\n",
    "load_incluster_config()\n",
    "api_instance = CoreV1Api(ApiClient())\n",
    "\n",
    "\n",
    "def get_pod_log_test(pod_name: str, namespace: str, container_name: str):\n",
    "    \"\"\"\n",
    "    Provide the location upon request.\n",
    "\n",
    "    :param pod_name: The name of the target pod\n",
    "    :param namespace: The name of the target namespace\n",
    "    :param container_name: The name of the target container within the target pod\n",
    "    :returns: Logs of the target pod\n",
    "    \"\"\"\n",
    "    try:\n",
    "        api_response = api_instance.read_namespaced_pod_log(\n",
    "            pod_name, namespace, container=container_name, tail_lines=100\n",
    "        )\n",
    "        pprint(api_response)\n",
    "    except ApiException as e:\n",
    "        print(\"Exception when calling CoreV1Api->read_namespaced_pod_log: %s\\n\" % e)"
   ]
  },
  {
   "cell_type": "code",
   "execution_count": 5,
   "metadata": {
    "scrolled": true
   },
   "outputs": [
    {
     "name": "stdout",
     "output_type": "stream",
     "text": [
      "('    at org.apache.maven.lifecycle.internal.MojoExecutor.doExecute '\n",
      " '(MojoExecutor.java:306)\\n'\n",
      " '    at org.apache.maven.lifecycle.internal.MojoExecutor.execute '\n",
      " '(MojoExecutor.java:211)\\n'\n",
      " '    at org.apache.maven.lifecycle.internal.MojoExecutor.execute '\n",
      " '(MojoExecutor.java:165)\\n'\n",
      " '    at org.apache.maven.lifecycle.internal.MojoExecutor.execute '\n",
      " '(MojoExecutor.java:157)\\n'\n",
      " '    at '\n",
      " 'org.apache.maven.lifecycle.internal.LifecycleModuleBuilder.buildProject '\n",
      " '(LifecycleModuleBuilder.java:121)\\n'\n",
      " '    at '\n",
      " 'org.apache.maven.lifecycle.internal.LifecycleModuleBuilder.buildProject '\n",
      " '(LifecycleModuleBuilder.java:81)\\n'\n",
      " '    at '\n",
      " 'org.apache.maven.lifecycle.internal.builder.singlethreaded.SingleThreadedBuilder.build '\n",
      " '(SingleThreadedBuilder.java:56)\\n'\n",
      " '    at org.apache.maven.lifecycle.internal.LifecycleStarter.execute '\n",
      " '(LifecycleStarter.java:127)\\n'\n",
      " '    at org.apache.maven.DefaultMaven.doExecute (DefaultMaven.java:294)\\n'\n",
      " '    at org.apache.maven.DefaultMaven.doExecute (DefaultMaven.java:192)\\n'\n",
      " '    at org.apache.maven.DefaultMaven.execute (DefaultMaven.java:105)\\n'\n",
      " '    at org.apache.maven.cli.MavenCli.execute (MavenCli.java:960)\\n'\n",
      " '    at org.apache.maven.cli.MavenCli.doMain (MavenCli.java:293)\\n'\n",
      " '    at org.apache.maven.cli.MavenCli.main (MavenCli.java:196)\\n'\n",
      " '    at jdk.internal.reflect.NativeMethodAccessorImpl.invoke0 (Native '\n",
      " 'Method)\\n'\n",
      " '    at jdk.internal.reflect.NativeMethodAccessorImpl.invoke '\n",
      " '(NativeMethodAccessorImpl.java:77)\\n'\n",
      " '    at jdk.internal.reflect.DelegatingMethodAccessorImpl.invoke '\n",
      " '(DelegatingMethodAccessorImpl.java:43)\\n'\n",
      " '    at java.lang.reflect.Method.invoke (Method.java:569)\\n'\n",
      " '    at org.codehaus.plexus.classworlds.launcher.Launcher.launchEnhanced '\n",
      " '(Launcher.java:282)\\n'\n",
      " '    at org.codehaus.plexus.classworlds.launcher.Launcher.launch '\n",
      " '(Launcher.java:225)\\n'\n",
      " '    at org.codehaus.plexus.classworlds.launcher.Launcher.mainWithExitCode '\n",
      " '(Launcher.java:406)\\n'\n",
      " '    at org.codehaus.plexus.classworlds.launcher.Launcher.main '\n",
      " '(Launcher.java:347)\\n'\n",
      " 'Caused by: org.apache.maven.plugin.compiler.CompilationFailureException: '\n",
      " 'Compilation failure\\n'\n",
      " '/tmp/src/src/main/java/org/openshift/quickstarts/undertow/servlet/ServletServer.java:[82,21] '\n",
      " 'cannot find symbol\\n'\n",
      " '  symbol:   method setHandlers(io.undertow.server.handlers.PathHandler)\\n'\n",
      " '  location: class io.undertow.Undertow.Builder\\n'\n",
      " '\\n'\n",
      " '    at org.apache.maven.plugin.compiler.AbstractCompilerMojo.execute '\n",
      " '(AbstractCompilerMojo.java:858)\\n'\n",
      " '    at org.apache.maven.plugin.compiler.CompilerMojo.execute '\n",
      " '(CompilerMojo.java:129)\\n'\n",
      " '    at org.apache.maven.plugin.DefaultBuildPluginManager.executeMojo '\n",
      " '(DefaultBuildPluginManager.java:137)\\n'\n",
      " '    at org.apache.maven.lifecycle.internal.MojoExecutor.doExecute '\n",
      " '(MojoExecutor.java:301)\\n'\n",
      " '    at org.apache.maven.lifecycle.internal.MojoExecutor.execute '\n",
      " '(MojoExecutor.java:211)\\n'\n",
      " '    at org.apache.maven.lifecycle.internal.MojoExecutor.execute '\n",
      " '(MojoExecutor.java:165)\\n'\n",
      " '    at org.apache.maven.lifecycle.internal.MojoExecutor.execute '\n",
      " '(MojoExecutor.java:157)\\n'\n",
      " '    at '\n",
      " 'org.apache.maven.lifecycle.internal.LifecycleModuleBuilder.buildProject '\n",
      " '(LifecycleModuleBuilder.java:121)\\n'\n",
      " '    at '\n",
      " 'org.apache.maven.lifecycle.internal.LifecycleModuleBuilder.buildProject '\n",
      " '(LifecycleModuleBuilder.java:81)\\n'\n",
      " '    at '\n",
      " 'org.apache.maven.lifecycle.internal.builder.singlethreaded.SingleThreadedBuilder.build '\n",
      " '(SingleThreadedBuilder.java:56)\\n'\n",
      " '    at org.apache.maven.lifecycle.internal.LifecycleStarter.execute '\n",
      " '(LifecycleStarter.java:127)\\n'\n",
      " '    at org.apache.maven.DefaultMaven.doExecute (DefaultMaven.java:294)\\n'\n",
      " '    at org.apache.maven.DefaultMaven.doExecute (DefaultMaven.java:192)\\n'\n",
      " '    at org.apache.maven.DefaultMaven.execute (DefaultMaven.java:105)\\n'\n",
      " '    at org.apache.maven.cli.MavenCli.execute (MavenCli.java:960)\\n'\n",
      " '    at org.apache.maven.cli.MavenCli.doMain (MavenCli.java:293)\\n'\n",
      " '    at org.apache.maven.cli.MavenCli.main (MavenCli.java:196)\\n'\n",
      " '    at jdk.internal.reflect.NativeMethodAccessorImpl.invoke0 (Native '\n",
      " 'Method)\\n'\n",
      " '    at jdk.internal.reflect.NativeMethodAccessorImpl.invoke '\n",
      " '(NativeMethodAccessorImpl.java:77)\\n'\n",
      " '    at jdk.internal.reflect.DelegatingMethodAccessorImpl.invoke '\n",
      " '(DelegatingMethodAccessorImpl.java:43)\\n'\n",
      " '    at java.lang.reflect.Method.invoke (Method.java:569)\\n'\n",
      " '    at org.codehaus.plexus.classworlds.launcher.Launcher.launchEnhanced '\n",
      " '(Launcher.java:282)\\n'\n",
      " '    at org.codehaus.plexus.classworlds.launcher.Launcher.launch '\n",
      " '(Launcher.java:225)\\n'\n",
      " '    at org.codehaus.plexus.classworlds.launcher.Launcher.mainWithExitCode '\n",
      " '(Launcher.java:406)\\n'\n",
      " '    at org.codehaus.plexus.classworlds.launcher.Launcher.main '\n",
      " '(Launcher.java:347)\\n'\n",
      " '[ERROR] \\n'\n",
      " '[ERROR] Re-run Maven using the -X switch to enable full debug logging.\\n'\n",
      " '[ERROR] \\n'\n",
      " '[ERROR] For more information about the errors and possible solutions, please '\n",
      " 'read the following articles:\\n'\n",
      " '[ERROR] [Help 1] '\n",
      " 'http://cwiki.apache.org/confluence/display/MAVEN/MojoFailureException\\n'\n",
      " 'subprocess exited with status 1\\n'\n",
      " 'subprocess exited with status 1\\n'\n",
      " 'Error: building at STEP \"RUN /usr/local/s2i/assemble\": exit status 1\\n')\n"
     ]
    }
   ],
   "source": [
    "pod_name = 'java-app-build-iyyx5z-build-pod'\n",
    "namespace = 'demo-application'\n",
    "container_name = 'step-s2i-build'\n",
    "\n",
    "get_pod_log_test(pod_name, namespace, container_name)"
   ]
  },
  {
   "cell_type": "markdown",
   "metadata": {},
   "source": [
    "## 3. Configure an agent for tool use.\n",
    "\n",
    "- **Agent Initialization**: First we create an `Agent` instance with the desired LLM model, agent instructions and tools.\n",
    "\n",
    "- **Instructions**: The `instructions` parameter, also referred to as the system prompt, specifies the agent's role and behavior. In this example, the agent is configured as a helpful web search assistant. It is instructed to use a tool whenever a web search is required and to respond in a friendly and helpful tone.\n",
    "\n",
    "- **Tools**: The `tools` parameter defines the tools available to the agent. In this case, the `get_pod_log` tool is used, which enables the agent to look up logs from a pod.\n",
    "\n",
    "- **How It Works**: When a user query is provided, the agent processes the input and determines whether a tool is required to fulfill the request. If the query involves retrieving logs from a pod, the agent invokes the `get_pod_log` tool. The tool interacts with the Kubernetes API server to fetch the container logs. This workflow ensures that the agent can handle a wide range of queries effectively."
   ]
  },
  {
   "cell_type": "code",
   "execution_count": 7,
   "metadata": {},
   "outputs": [
    {
     "name": "stdout",
     "output_type": "stream",
     "text": [
      "Instantianted Llama Stack client\n",
      "\n",
      "==================================================\n",
      "\u001b[34mProcessing user query: What did the step-s2i-build container within the java-app-build-iyyx5z-build-pod pod in namespace demo-application log?\u001b[0m\n",
      "==================================================\n",
      "\u001b[33minference> \u001b[0m\u001b[33m\u001b[0m\u001b[33m<\u001b[0m\u001b[33mtool\u001b[0m\u001b[33m_\u001b[0m\u001b[33mcall\u001b[0m\u001b[33m>\u001b[0m\u001b[97m\u001b[0m\n",
      "\u001b[30m\u001b[0m\u001b[32mtool_execution> Tool:get_pod_log Args:{'pod_name': 'java-app-build-iyyx5z-build-pod', 'namespace': 'demo-application', 'container_name': 'step-s2i-build'}\u001b[0m\n",
      "\u001b[32mtool_execution> Tool:get_pod_log Response:\"    at org.apache.maven.lifecycle.internal.MojoExecutor.doExecute (MojoExecutor.java:306)\\n    at org.apache.maven.lifecycle.internal.MojoExecutor.execute (MojoExecutor.java:211)\\n    at org.apache.maven.lifecycle.internal.MojoExecutor.execute (MojoExecutor.java:165)\\n    at org.apache.maven.lifecycle.internal.MojoExecutor.execute (MojoExecutor.java:157)\\n    at org.apache.maven.lifecycle.internal.LifecycleModuleBuilder.buildProject (LifecycleModuleBuilder.java:121)\\n    at org.apache.maven.lifecycle.internal.LifecycleModuleBuilder.buildProject (LifecycleModuleBuilder.java:81)\\n    at org.apache.maven.lifecycle.internal.builder.singlethreaded.SingleThreadedBuilder.build (SingleThreadedBuilder.java:56)\\n    at org.apache.maven.lifecycle.internal.LifecycleStarter.execute (LifecycleStarter.java:127)\\n    at org.apache.maven.DefaultMaven.doExecute (DefaultMaven.java:294)\\n    at org.apache.maven.DefaultMaven.doExecute (DefaultMaven.java:192)\\n    at org.apache.maven.DefaultMaven.execute (DefaultMaven.java:105)\\n    at org.apache.maven.cli.MavenCli.execute (MavenCli.java:960)\\n    at org.apache.maven.cli.MavenCli.doMain (MavenCli.java:293)\\n    at org.apache.maven.cli.MavenCli.main (MavenCli.java:196)\\n    at jdk.internal.reflect.NativeMethodAccessorImpl.invoke0 (Native Method)\\n    at jdk.internal.reflect.NativeMethodAccessorImpl.invoke (NativeMethodAccessorImpl.java:77)\\n    at jdk.internal.reflect.DelegatingMethodAccessorImpl.invoke (DelegatingMethodAccessorImpl.java:43)\\n    at java.lang.reflect.Method.invoke (Method.java:569)\\n    at org.codehaus.plexus.classworlds.launcher.Launcher.launchEnhanced (Launcher.java:282)\\n    at org.codehaus.plexus.classworlds.launcher.Launcher.launch (Launcher.java:225)\\n    at org.codehaus.plexus.classworlds.launcher.Launcher.mainWithExitCode (Launcher.java:406)\\n    at org.codehaus.plexus.classworlds.launcher.Launcher.main (Launcher.java:347)\\nCaused by: org.apache.maven.plugin.compiler.CompilationFailureException: Compilation failure\\n/tmp/src/src/main/java/org/openshift/quickstarts/undertow/servlet/ServletServer.java:[82,21] cannot find symbol\\n  symbol:   method setHandlers(io.undertow.server.handlers.PathHandler)\\n  location: class io.undertow.Undertow.Builder\\n\\n    at org.apache.maven.plugin.compiler.AbstractCompilerMojo.execute (AbstractCompilerMojo.java:858)\\n    at org.apache.maven.plugin.compiler.CompilerMojo.execute (CompilerMojo.java:129)\\n    at org.apache.maven.plugin.DefaultBuildPluginManager.executeMojo (DefaultBuildPluginManager.java:137)\\n    at org.apache.maven.lifecycle.internal.MojoExecutor.doExecute (MojoExecutor.java:301)\\n    at org.apache.maven.lifecycle.internal.MojoExecutor.execute (MojoExecutor.java:211)\\n    at org.apache.maven.lifecycle.internal.MojoExecutor.execute (MojoExecutor.java:165)\\n    at org.apache.maven.lifecycle.internal.MojoExecutor.execute (MojoExecutor.java:157)\\n    at org.apache.maven.lifecycle.internal.LifecycleModuleBuilder.buildProject (LifecycleModuleBuilder.java:121)\\n    at org.apache.maven.lifecycle.internal.LifecycleModuleBuilder.buildProject (LifecycleModuleBuilder.java:81)\\n    at org.apache.maven.lifecycle.internal.builder.singlethreaded.SingleThreadedBuilder.build (SingleThreadedBuilder.java:56)\\n    at org.apache.maven.lifecycle.internal.LifecycleStarter.execute (LifecycleStarter.java:127)\\n    at org.apache.maven.DefaultMaven.doExecute (DefaultMaven.java:294)\\n    at org.apache.maven.DefaultMaven.doExecute (DefaultMaven.java:192)\\n    at org.apache.maven.DefaultMaven.execute (DefaultMaven.java:105)\\n    at org.apache.maven.cli.MavenCli.execute (MavenCli.java:960)\\n    at org.apache.maven.cli.MavenCli.doMain (MavenCli.java:293)\\n    at org.apache.maven.cli.MavenCli.main (MavenCli.java:196)\\n    at jdk.internal.reflect.NativeMethodAccessorImpl.invoke0 (Native Method)\\n    at jdk.internal.reflect.NativeMethodAccessorImpl.invoke (NativeMethodAccessorImpl.java:77)\\n    at jdk.internal.reflect.DelegatingMethodAccessorImpl.invoke (DelegatingMethodAccessorImpl.java:43)\\n    at java.lang.reflect.Method.invoke (Method.java:569)\\n    at org.codehaus.plexus.classworlds.launcher.Launcher.launchEnhanced (Launcher.java:282)\\n    at org.codehaus.plexus.classworlds.launcher.Launcher.launch (Launcher.java:225)\\n    at org.codehaus.plexus.classworlds.launcher.Launcher.mainWithExitCode (Launcher.java:406)\\n    at org.codehaus.plexus.classworlds.launcher.Launcher.main (Launcher.java:347)\\n[ERROR] \\n[ERROR] Re-run Maven using the -X switch to enable full debug logging.\\n[ERROR] \\n[ERROR] For more information about the errors and possible solutions, please read the following articles:\\n[ERROR] [Help 1] http://cwiki.apache.org/confluence/display/MAVEN/MojoFailureException\\nsubprocess exited with status 1\\nsubprocess exited with status 1\\nError: building at STEP \\\"RUN /usr/local/s2i/assemble\\\": exit status 1\\n\"\u001b[0m\n",
      "\u001b[33minference> \u001b[0m\u001b[33m\u001b[0m\u001b[33mThe\u001b[0m\u001b[33m step\u001b[0m\u001b[33m-\u001b[0m\u001b[33ms\u001b[0m\u001b[33m2\u001b[0m\u001b[33mi\u001b[0m\u001b[33m-\u001b[0m\u001b[33mbuild\u001b[0m\u001b[33m container\u001b[0m\u001b[33m within\u001b[0m\u001b[33m the\u001b[0m\u001b[33m java\u001b[0m\u001b[33m-\u001b[0m\u001b[33mapp\u001b[0m\u001b[33m-\u001b[0m\u001b[33mbuild\u001b[0m\u001b[33m-\u001b[0m\u001b[33mi\u001b[0m\u001b[33myy\u001b[0m\u001b[33mx\u001b[0m\u001b[33m5\u001b[0m\u001b[33mz\u001b[0m\u001b[33m-\u001b[0m\u001b[33mbuild\u001b[0m\u001b[33m-\u001b[0m\u001b[33mpod\u001b[0m\u001b[33m pod\u001b[0m\u001b[33m in\u001b[0m\u001b[33m the\u001b[0m\u001b[33m demo\u001b[0m\u001b[33m-\u001b[0m\u001b[33mapplication\u001b[0m\u001b[33m namespace\u001b[0m\u001b[33m encountered\u001b[0m\u001b[33m a\u001b[0m\u001b[33m compilation\u001b[0m\u001b[33m failure\u001b[0m\u001b[33m during\u001b[0m\u001b[33m the\u001b[0m\u001b[33m build\u001b[0m\u001b[33m process\u001b[0m\u001b[33m.\u001b[0m\u001b[33m The\u001b[0m\u001b[33m error\u001b[0m\u001b[33m message\u001b[0m\u001b[33m indicates\u001b[0m\u001b[33m that\u001b[0m\u001b[33m the\u001b[0m\u001b[33m code\u001b[0m\u001b[33m cannot\u001b[0m\u001b[33m find\u001b[0m\u001b[33m the\u001b[0m\u001b[33m symbol\u001b[0m\u001b[33m '\u001b[0m\u001b[33mset\u001b[0m\u001b[33mHandlers\u001b[0m\u001b[33m'\u001b[0m\u001b[33m in\u001b[0m\u001b[33m the\u001b[0m\u001b[33m '\u001b[0m\u001b[33mio\u001b[0m\u001b[33m.\u001b[0m\u001b[33munder\u001b[0m\u001b[33mtow\u001b[0m\u001b[33m.\u001b[0m\u001b[33mserver\u001b[0m\u001b[33m.\u001b[0m\u001b[33mhandlers\u001b[0m\u001b[33m.\u001b[0m\u001b[33mPath\u001b[0m\u001b[33mHandler\u001b[0m\u001b[33m'\u001b[0m\u001b[33m class\u001b[0m\u001b[33m,\u001b[0m\u001b[33m which\u001b[0m\u001b[33m is\u001b[0m\u001b[33m part\u001b[0m\u001b[33m of\u001b[0m\u001b[33m the\u001b[0m\u001b[33m '\u001b[0m\u001b[33mio\u001b[0m\u001b[33m.\u001b[0m\u001b[33munder\u001b[0m\u001b[33mtow\u001b[0m\u001b[33m'\u001b[0m\u001b[33m package\u001b[0m\u001b[33m.\u001b[0m\u001b[33m This\u001b[0m\u001b[33m issue\u001b[0m\u001b[33m is\u001b[0m\u001b[33m likely\u001b[0m\u001b[33m due\u001b[0m\u001b[33m to\u001b[0m\u001b[33m a\u001b[0m\u001b[33m missing\u001b[0m\u001b[33m or\u001b[0m\u001b[33m incorrect\u001b[0m\u001b[33m dependency\u001b[0m\u001b[33m in\u001b[0m\u001b[33m the\u001b[0m\u001b[33m project\u001b[0m\u001b[33m's\u001b[0m\u001b[33m build\u001b[0m\u001b[33m configuration\u001b[0m\u001b[33m.\u001b[0m\u001b[33m\n",
      "\u001b[0m\u001b[33m\n",
      "\u001b[0m\u001b[33mTo\u001b[0m\u001b[33m resolve\u001b[0m\u001b[33m this\u001b[0m\u001b[33m issue\u001b[0m\u001b[33m,\u001b[0m\u001b[33m you\u001b[0m\u001b[33m should\u001b[0m\u001b[33m:\u001b[0m\u001b[33m\n",
      "\u001b[0m\u001b[33m1\u001b[0m\u001b[33m.\u001b[0m\u001b[33m Review\u001b[0m\u001b[33m the\u001b[0m\u001b[33m project\u001b[0m\u001b[33m's\u001b[0m\u001b[33m build\u001b[0m\u001b[33m configuration\u001b[0m\u001b[33m (\u001b[0m\u001b[33mpom\u001b[0m\u001b[33m.\u001b[0m\u001b[33mxml\u001b[0m\u001b[33m or\u001b[0m\u001b[33m build\u001b[0m\u001b[33m.\u001b[0m\u001b[33mgradle\u001b[0m\u001b[33m)\u001b[0m\u001b[33m to\u001b[0m\u001b[33m ensure\u001b[0m\u001b[33m that\u001b[0m\u001b[33m the\u001b[0m\u001b[33m required\u001b[0m\u001b[33m dependency\u001b[0m\u001b[33m is\u001b[0m\u001b[33m correctly\u001b[0m\u001b[33m specified\u001b[0m\u001b[33m.\u001b[0m\u001b[33m\n",
      "\u001b[0m\u001b[33m2\u001b[0m\u001b[33m.\u001b[0m\u001b[33m If\u001b[0m\u001b[33m the\u001b[0m\u001b[33m dependency\u001b[0m\u001b[33m is\u001b[0m\u001b[33m not\u001b[0m\u001b[33m present\u001b[0m\u001b[33m in\u001b[0m\u001b[33m the\u001b[0m\u001b[33m project\u001b[0m\u001b[33m,\u001b[0m\u001b[33m add\u001b[0m\u001b[33m it\u001b[0m\u001b[33m to\u001b[0m\u001b[33m the\u001b[0m\u001b[33m pom\u001b[0m\u001b[33m.\u001b[0m\u001b[33mxml\u001b[0m\u001b[33m file\u001b[0m\u001b[33m:\u001b[0m\u001b[33m\n",
      "\u001b[0m\u001b[33m\n",
      "\u001b[0m\u001b[33m```\u001b[0m\u001b[33mxml\u001b[0m\u001b[33m\n",
      "\u001b[0m\u001b[33m<\u001b[0m\u001b[33mdependency\u001b[0m\u001b[33m>\u001b[0m\u001b[33m\n",
      "   \u001b[0m\u001b[33m <\u001b[0m\u001b[33mgroupId\u001b[0m\u001b[33m>\u001b[0m\u001b[33mio\u001b[0m\u001b[33m.\u001b[0m\u001b[33munder\u001b[0m\u001b[33mtow\u001b[0m\u001b[33m</\u001b[0m\u001b[33mgroupId\u001b[0m\u001b[33m>\u001b[0m\u001b[33m\n",
      "   \u001b[0m\u001b[33m <\u001b[0m\u001b[33martifactId\u001b[0m\u001b[33m>\u001b[0m\u001b[33munder\u001b[0m\u001b[33mtow\u001b[0m\u001b[33m-\u001b[0m\u001b[33mcore\u001b[0m\u001b[33m</\u001b[0m\u001b[33martifactId\u001b[0m\u001b[33m>\u001b[0m\u001b[33m\n",
      "   \u001b[0m\u001b[33m <\u001b[0m\u001b[33mversion\u001b[0m\u001b[33m>\u001b[0m\u001b[33m2\u001b[0m\u001b[33m.\u001b[0m\u001b[33m3\u001b[0m\u001b[33m.\u001b[0m\u001b[33m1\u001b[0m\u001b[33m0\u001b[0m\u001b[33m.\u001b[0m\u001b[33mFinal\u001b[0m\u001b[33m</\u001b[0m\u001b[33mversion\u001b[0m\u001b[33m>\u001b[0m\u001b[33m\n",
      "\u001b[0m\u001b[33m</\u001b[0m\u001b[33mdependency\u001b[0m\u001b[33m>\u001b[0m\u001b[33m\n",
      "\u001b[0m\u001b[33m```\u001b[0m\u001b[33m\n",
      "\u001b[0m\u001b[33m\n",
      "\u001b[0m\u001b[33m3\u001b[0m\u001b[33m.\u001b[0m\u001b[33m Clean\u001b[0m\u001b[33m and\u001b[0m\u001b[33m rebuild\u001b[0m\u001b[33m the\u001b[0m\u001b[33m project\u001b[0m\u001b[33m using\u001b[0m\u001b[33m the\u001b[0m\u001b[33m following\u001b[0m\u001b[33m Maven\u001b[0m\u001b[33m commands\u001b[0m\u001b[33m:\u001b[0m\u001b[33m\n",
      "\u001b[0m\u001b[33m\n",
      "\u001b[0m\u001b[33m```\u001b[0m\u001b[33mbash\u001b[0m\u001b[33m\n",
      "\u001b[0m\u001b[33mmvn\u001b[0m\u001b[33m clean\u001b[0m\u001b[33m\n",
      "\u001b[0m\u001b[33mmvn\u001b[0m\u001b[33m compile\u001b[0m\u001b[33m\n",
      "\u001b[0m\u001b[33m```\u001b[0m\u001b[33m\n",
      "\u001b[0m\u001b[33m\n",
      "\u001b[0m\u001b[33mAfter\u001b[0m\u001b[33m addressing\u001b[0m\u001b[33m the\u001b[0m\u001b[33m dependency\u001b[0m\u001b[33m issue\u001b[0m\u001b[33m,\u001b[0m\u001b[33m try\u001b[0m\u001b[33m building\u001b[0m\u001b[33m the\u001b[0m\u001b[33m project\u001b[0m\u001b[33m again\u001b[0m\u001b[33m.\u001b[0m\u001b[33m If\u001b[0m\u001b[33m you\u001b[0m\u001b[33m encounter\u001b[0m\u001b[33m further\u001b[0m\u001b[33m problems\u001b[0m\u001b[33m,\u001b[0m\u001b[33m please\u001b[0m\u001b[33m let\u001b[0m\u001b[33m me\u001b[0m\u001b[33m know\u001b[0m\u001b[33m,\u001b[0m\u001b[33m and\u001b[0m\u001b[33m I\u001b[0m\u001b[33m'll\u001b[0m\u001b[33m be\u001b[0m\u001b[33m happy\u001b[0m\u001b[33m to\u001b[0m\u001b[33m assist\u001b[0m\u001b[33m you\u001b[0m\u001b[33m further\u001b[0m\u001b[33m.\u001b[0m\u001b[97m\u001b[0m\n",
      "\u001b[30m\u001b[0m"
     ]
    }
   ],
   "source": [
    "instructions = \"\"\"\n",
    "    You are a helpful assistant. \n",
    "    When a user asks for pod logs, you MUST use the get_pod_log tool.\n",
    "\"\"\" \n",
    "\n",
    "client = get_llama_stack_client()\n",
    "agent = Agent(\n",
    "    client, \n",
    "    model=lab.model_id,\n",
    "    instructions=instructions,\n",
    "    tools=[get_pod_log],\n",
    "    sampling_params=lab.sampling_params\n",
    ")\n",
    "\n",
    "\n",
    "user_prompts = [\n",
    "    f\"What did the {container_name} container within the {pod_name} pod in namespace {namespace} log?\"\n",
    "]\n",
    "session_id = agent.create_session(\"tool-test-session\")\n",
    "for prompt in user_prompts:\n",
    "    print(\"\\n\"+\"=\"*50)\n",
    "    cprint(f\"Processing user query: {prompt}\", \"blue\")\n",
    "    print(\"=\"*50)\n",
    "    response = agent.create_turn(\n",
    "        messages=[\n",
    "            {\n",
    "                \"role\": \"user\",\n",
    "                \"content\": prompt,\n",
    "            }\n",
    "        ],\n",
    "        session_id=session_id,\n",
    "        stream='True'\n",
    "    )\n",
    "\n",
    "    for log in EventLogger().log(response):\n",
    "        log.print()"
   ]
  },
  {
   "cell_type": "markdown",
   "metadata": {},
   "source": [
    "## Key Takeaways\n",
    "\n",
    "- We've demonstrated how to set up Llama Stack agents and extended them with builtin tools (like web search) that come prepackaged with Llama Stack.\n",
    "- We've shown that this simple approach can provide significantly increased functionality of existing open source LLM's. \n",
    "- This will serves as a foundational example for the more advanced examples to come involving Agentic RAG, External Tools, and complex agentic patterns.\n",
    "\n",
    "Continue to the [next notebook](./4.2_prompt_chaining.ipynb) to learn how we can upgrade our agents to solve even more complex and multi-step tasks using advanced agentic patterns. \n"
   ]
  },
  {
   "cell_type": "code",
   "execution_count": null,
   "metadata": {},
   "outputs": [],
   "source": []
  }
 ],
 "metadata": {
  "kernelspec": {
   "display_name": "Python 3.11",
   "language": "python",
   "name": "python3"
  },
  "language_info": {
   "codemirror_mode": {
    "name": "ipython",
    "version": 3
   },
   "file_extension": ".py",
   "mimetype": "text/x-python",
   "name": "python",
   "nbconvert_exporter": "python",
   "pygments_lexer": "ipython3",
   "version": "3.11.9"
  }
 },
 "nbformat": 4,
 "nbformat_minor": 4
}
